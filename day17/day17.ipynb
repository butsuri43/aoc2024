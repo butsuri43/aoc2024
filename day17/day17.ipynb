{
 "cells": [
  {
   "cell_type": "code",
   "execution_count": null,
   "metadata": {},
   "outputs": [],
   "source": [
    "from aocd import data, models, submit\n",
    "from io import StringIO\n",
    "from pathlib import Path\n",
    "import re\n",
    "\n",
    "import pandas as pd"
   ]
  },
  {
   "cell_type": "markdown",
   "metadata": {},
   "source": [
    "# Load data and examples"
   ]
  },
  {
   "cell_type": "code",
   "execution_count": null,
   "metadata": {},
   "outputs": [],
   "source": [
    "puzzle_year = 2024\n",
    "puzzle_day = int(re.match(r\"day(\\d+)\", Path.cwd().name).group(1))"
   ]
  },
  {
   "cell_type": "code",
   "execution_count": null,
   "metadata": {},
   "outputs": [],
   "source": [
    "todays_puzzle = models.Puzzle(year=puzzle_year, day=puzzle_day)\n",
    "todays_examples = todays_puzzle.examples\n",
    "data = todays_puzzle.input_data"
   ]
  },
  {
   "cell_type": "code",
   "execution_count": null,
   "metadata": {},
   "outputs": [],
   "source": [
    "todays_examples"
   ]
  },
  {
   "cell_type": "markdown",
   "metadata": {},
   "source": [
    "# Part A"
   ]
  },
  {
   "cell_type": "code",
   "execution_count": null,
   "metadata": {},
   "outputs": [],
   "source": [
    "def combo_operand(operand: int, register: list) -> int | None:\n",
    "    if 0 <= operand <= 3:\n",
    "        return operand\n",
    "    elif 4 <= operand <= 7:\n",
    "        return register[operand - 4]\n",
    "    else:\n",
    "        return None"
   ]
  },
  {
   "cell_type": "code",
   "execution_count": null,
   "metadata": {},
   "outputs": [],
   "source": [
    "def run_program(registers: list, program: list, should_clone=False):\n",
    "    outputs = []\n",
    "    n_intructions = len(program)\n",
    "\n",
    "    def run_instruction(\n",
    "        instruction_pointer: int, operand: int, registers: list\n",
    "    ) -> int | None:\n",
    "        instruction = program[instruction_pointer]\n",
    "        if instruction == 0:\n",
    "            # adv\n",
    "            registers[0] = registers[0] // (2 ** combo_operand(operand, registers))\n",
    "        elif instruction == 1:\n",
    "            # bxl\n",
    "            registers[1] = registers[1] ^ operand\n",
    "        elif instruction == 2:\n",
    "            # bst\n",
    "            registers[1] = combo_operand(operand, registers) % 8\n",
    "        elif instruction == 3:\n",
    "            # jnz\n",
    "            if registers[0] != 0:\n",
    "                return operand\n",
    "        elif instruction == 4:\n",
    "            # bxc\n",
    "            registers[1] ^= registers[2]\n",
    "        elif instruction == 5:\n",
    "            # out\n",
    "            outputs.append(combo_operand(operand, registers) % 8)\n",
    "        elif instruction == 6:\n",
    "            # bdv\n",
    "            registers[1] = registers[0] // (2 ** combo_operand(operand, registers))\n",
    "        elif instruction == 7:\n",
    "            # cdv\n",
    "            registers[2] = registers[0] // (2 ** combo_operand(operand, registers))\n",
    "        return instruction_pointer + 2\n",
    "\n",
    "    instruction_pointer = 0\n",
    "    while 0 <= instruction_pointer < n_intructions - 1:\n",
    "        instruction_pointer = run_instruction(\n",
    "            instruction_pointer, program[instruction_pointer + 1], registers\n",
    "        )\n",
    "        if should_clone:\n",
    "            if len(outputs) > len(program):\n",
    "                return \"\"\n",
    "            if len(outputs) > 0 and outputs[-1] != program[len(outputs) - 1]:\n",
    "                return \"\"\n",
    "    return outputs"
   ]
  },
  {
   "cell_type": "code",
   "execution_count": null,
   "metadata": {},
   "outputs": [],
   "source": [
    "def part_a(data: str) -> str:\n",
    "    registerA = int(re.findall(r\"Register A: (\\d+)\", data)[0])\n",
    "    registerB = int(re.findall(r\"Register B: (\\d+)\", data)[0])\n",
    "    registerC = int(re.findall(r\"Register C: (\\d+)\", data)[0])\n",
    "    registers = [registerA, registerB, registerC]\n",
    "    program = re.findall(r\"Program: (.*)\", data)[0]\n",
    "    program = [int(x) for x in program.split(\",\")]\n",
    "    output = run_program(registers, program)\n",
    "    return \",\".join([str(o) for o in output])"
   ]
  },
  {
   "cell_type": "code",
   "execution_count": null,
   "metadata": {},
   "outputs": [],
   "source": [
    "for example_index, example in enumerate(todays_examples):\n",
    "    if example.answer_a != \"\":\n",
    "        print(\n",
    "            f\"Example {example_index} part a: {part_a(example.input_data)} (expected {example.answer_a})\"\n",
    "        )\n",
    "        assert part_a(str(example.input_data)) == example.answer_a\n",
    "submit(part_a(data), part=\"a\", year=puzzle_year, day=puzzle_day)"
   ]
  },
  {
   "cell_type": "markdown",
   "metadata": {},
   "source": [
    "# Part B"
   ]
  },
  {
   "cell_type": "code",
   "execution_count": null,
   "metadata": {},
   "outputs": [],
   "source": [
    "from aocd.examples import Example"
   ]
  },
  {
   "cell_type": "code",
   "execution_count": null,
   "metadata": {},
   "outputs": [],
   "source": [
    "todays_examples.append(\n",
    "    Example(\n",
    "        input_data=\"\"\"Register A: 2024\n",
    "Register B: 0\n",
    "Register C: 0\n",
    "\n",
    "Program: 0,3,5,4,3,0\"\"\",\n",
    "        answer_a=\"\",\n",
    "        answer_b=\"117440\",\n",
    "    )\n",
    ")"
   ]
  },
  {
   "cell_type": "code",
   "execution_count": null,
   "metadata": {},
   "outputs": [],
   "source": [
    "def find_lowest_register(program):\n",
    "    \"\"\"\n",
    "    The program I have as the puzzle input does the following:\n",
    "    1) B = A % 8\n",
    "    2) B' = B xor 3\n",
    "    3) C = A // 2**(B')  == A >> B'\n",
    "    4) A' = A // 2**3 == A >> 3\n",
    "    4) B'' = B' xor C\n",
    "    5) B''' = B'' xor 5\n",
    "    OUT = B''' % 8\n",
    "\n",
    "    -> This means we are at most interested in 7 bits every iteration of the program.\n",
    "    -> Also,  A must be between 2**45 and 7 * 2**45 (45 = 3 x (16-1) where 16 is the length of the program).\n",
    "       If not, the program would print 17th output character that we do not wont,\n",
    "       or would stop before pringting all 16 characters.\n",
    "\n",
    "    The code below relies on the fact that we only need to know the start of the register A\n",
    "    in order to calculate the last outputs produced by the program.\n",
    "    We try to guess iteratively A by running the program so that we reproduce\n",
    "    the program in the reverse order.\n",
    "    \"\"\"\n",
    "    result_so_far = 0\n",
    "    program_len = len(program)\n",
    "    program_index = program_len - 1\n",
    "    # We want to scan the 3-bits blocks from the lowest to the heighest value\n",
    "    # It could happen, however that only at later iteration\n",
    "    # it turns out that the number found previously does not allow\n",
    "    # for self-reproduction. In order not to run over the same values multiple times\n",
    "    # we introduce scan_start_values.\n",
    "    scan_start_values = [0] * program_len\n",
    "    # We are able to iteratively guess 3 bits at the time,\n",
    "    # however 3 initial bits are unspecified in in the first iterations\n",
    "    # (can only be fixed in requiring that at all iterations the results are correct)\n",
    "    # extra_number_at_start are those 3 initial bits.\n",
    "    extra_number_at_start = 0\n",
    "    while program_index >= 0:\n",
    "        digit = program[program_index]\n",
    "        match = False\n",
    "        for b in range(scan_start_values[program_index], 8):\n",
    "            scan_start_values[program_index] = b + 1\n",
    "            registers = [(result_so_far << 3) + b, 0, 0]\n",
    "            output = run_program(registers, program)\n",
    "            if output[0] == digit:\n",
    "                result_so_far = (result_so_far << 3) + b\n",
    "                match = True\n",
    "                break\n",
    "        if not match:\n",
    "            result_so_far = result_so_far >> 3\n",
    "            scan_start_values[program_index] = 0\n",
    "            if program_index == program_len - 1:\n",
    "                extra_number_at_start += 1\n",
    "                result_so_far = extra_number_at_start\n",
    "            else:\n",
    "                program_index += 1\n",
    "        else:\n",
    "            program_index -= 1\n",
    "        if extra_number_at_start > 8:\n",
    "            break\n",
    "    return result_so_far"
   ]
  },
  {
   "cell_type": "code",
   "execution_count": null,
   "metadata": {},
   "outputs": [],
   "source": [
    "def part_b(data: str) -> str:\n",
    "    program = re.findall(r\"Program: (.*)\", data)[0]\n",
    "    program = [int(x) for x in program.split(\",\")]\n",
    "    lowest_register_value = find_lowest_register(program)\n",
    "\n",
    "    registers = [lowest_register_value, 0, 0]\n",
    "\n",
    "    assert run_program(registers, program) == program\n",
    "    return str(lowest_register_value)"
   ]
  },
  {
   "cell_type": "code",
   "execution_count": null,
   "metadata": {},
   "outputs": [],
   "source": [
    "todays_examples"
   ]
  },
  {
   "cell_type": "code",
   "execution_count": null,
   "metadata": {},
   "outputs": [],
   "source": [
    "for example_index, example in enumerate(todays_examples):\n",
    "    if example.answer_b is not None:\n",
    "        print(\n",
    "            f\"Example {example_index} part b: {part_b(example.input_data)} (expected {example.answer_b})\"\n",
    "        )\n",
    "        assert part_b(str(example.input_data)) == example.answer_b\n",
    "submit(part_b(data), part=\"b\", year=puzzle_year, day=puzzle_day)"
   ]
  }
 ],
 "metadata": {
  "kernelspec": {
   "display_name": ".env",
   "language": "python",
   "name": "python3"
  },
  "language_info": {
   "codemirror_mode": {
    "name": "ipython",
    "version": 3
   },
   "file_extension": ".py",
   "mimetype": "text/x-python",
   "name": "python",
   "nbconvert_exporter": "python",
   "pygments_lexer": "ipython3",
   "version": "3.12.6"
  }
 },
 "nbformat": 4,
 "nbformat_minor": 2
}
