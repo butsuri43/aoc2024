{
 "cells": [
  {
   "cell_type": "markdown",
   "metadata": {},
   "source": [
    "![](christmas_tree.png)"
   ]
  },
  {
   "cell_type": "code",
   "execution_count": null,
   "metadata": {},
   "outputs": [],
   "source": [
    "from aocd import data, models, submit\n",
    "from io import StringIO\n",
    "from pathlib import Path\n",
    "import re\n",
    "\n",
    "import numpy as np"
   ]
  },
  {
   "cell_type": "markdown",
   "metadata": {},
   "source": [
    "# Load data and examples"
   ]
  },
  {
   "cell_type": "code",
   "execution_count": null,
   "metadata": {},
   "outputs": [],
   "source": [
    "puzzle_year = 2024\n",
    "puzzle_day = int(re.match(r\"day(\\d+)\", Path.cwd().name).group(1))"
   ]
  },
  {
   "cell_type": "code",
   "execution_count": null,
   "metadata": {},
   "outputs": [],
   "source": [
    "todays_puzzle = models.Puzzle(year=puzzle_year, day=puzzle_day)\n",
    "data = todays_puzzle.input_data\n",
    "todays_examples = todays_puzzle.examples"
   ]
  },
  {
   "cell_type": "code",
   "execution_count": null,
   "metadata": {},
   "outputs": [],
   "source": [
    "todays_examples[0] = todays_examples[0]._replace(answer_a=\"12\")"
   ]
  },
  {
   "cell_type": "markdown",
   "metadata": {},
   "source": [
    "# Part A"
   ]
  },
  {
   "cell_type": "code",
   "execution_count": null,
   "metadata": {},
   "outputs": [],
   "source": [
    "def multiply_robots_in_quadrants(robot_positions, grid_size: tuple):\n",
    "    grid = np.zeros(grid_size)\n",
    "    for robot in robot_positions:\n",
    "        grid[robot[0], robot[1]] += 1\n",
    "    q_shape = (grid_size[0] // 2, grid_size[1] // 2)\n",
    "    q1 = np.sum(grid[: q_shape[0], : q_shape[1]])\n",
    "    q2 = np.sum(grid[: q_shape[0], q_shape[1] + 1 :])\n",
    "    q3 = np.sum(grid[q_shape[0] + 1 :, : q_shape[1]])\n",
    "    q4 = np.sum(grid[q_shape[0] + 1 :, q_shape[1] + 1 :])\n",
    "\n",
    "    return int(q1 * q2 * q3 * q4)"
   ]
  },
  {
   "cell_type": "code",
   "execution_count": null,
   "metadata": {},
   "outputs": [],
   "source": [
    "def part_a(data: str, grid_size: tuple) -> str:\n",
    "    N = 100\n",
    "    robot_positions = re.findall(r\"p=(\\d+),(\\d+)\", data)\n",
    "    robot_velocities = re.findall(r\"v=(-?\\d+),(-?\\d+)\", data)\n",
    "    robot_positions = np.array(robot_positions, dtype=int)\n",
    "    robot_velocities = np.array(robot_velocities, dtype=int)\n",
    "    for i in range(len(robot_positions)):\n",
    "        robot_positions[i] += robot_velocities[i] * N\n",
    "        robot_positions[i] = robot_positions[i] % grid_size\n",
    "    result = multiply_robots_in_quadrants(robot_positions, grid_size)\n",
    "    return str(result)"
   ]
  },
  {
   "cell_type": "code",
   "execution_count": null,
   "metadata": {},
   "outputs": [],
   "source": [
    "for example_index, example in enumerate(todays_examples):\n",
    "    if example.answer_a != \"\":\n",
    "        print(\n",
    "            f\"Example {example_index} part a: {part_a(example.input_data,(11,7))} (expected {example.answer_a})\"\n",
    "        )\n",
    "        assert part_a(str(example.input_data), (11, 7)) == example.answer_a\n",
    "submit(part_a(data, (101, 103)), part=\"a\", year=puzzle_year, day=puzzle_day)"
   ]
  },
  {
   "cell_type": "markdown",
   "metadata": {},
   "source": [
    "# Part B"
   ]
  },
  {
   "cell_type": "code",
   "execution_count": null,
   "metadata": {},
   "outputs": [],
   "source": [
    "import plotly.express as px"
   ]
  },
  {
   "cell_type": "code",
   "execution_count": null,
   "metadata": {},
   "outputs": [],
   "source": [
    "def iterate_robots(robot_positions, robot_velocities, grid_size: tuple, n=1):\n",
    "    robot_positions += robot_velocities * n\n",
    "    for i in range(len(robot_positions)):\n",
    "        robot_positions[i] = robot_positions[i] % grid_size\n",
    "\n",
    "\n",
    "def robot_positions_to_grid(robot_positions, grid_size: tuple):\n",
    "    grid = np.zeros(grid_size)\n",
    "    for x, y in robot_positions:\n",
    "        grid[(x, y)] += 1\n",
    "    return grid\n",
    "\n",
    "\n",
    "def visualise_robots(robot_positions, grid_size: tuple):\n",
    "    grid = robot_positions_to_grid(robot_positions, grid_size)\n",
    "    fig = px.imshow(grid.T)\n",
    "    return fig"
   ]
  },
  {
   "cell_type": "code",
   "execution_count": null,
   "metadata": {},
   "outputs": [],
   "source": [
    "def get_robots_positions_velocity_from_data(data: str):\n",
    "    robot_positions = re.findall(r\"p=(\\d+),(\\d+)\", data)\n",
    "    robot_velocities = re.findall(r\"v=(-?\\d+),(-?\\d+)\", data)\n",
    "    robot_positions = np.array(robot_positions, dtype=int)\n",
    "    robot_velocities = np.array(robot_velocities, dtype=int)\n",
    "    return robot_positions, robot_velocities"
   ]
  },
  {
   "cell_type": "markdown",
   "metadata": {},
   "source": [
    "## Check the functions"
   ]
  },
  {
   "cell_type": "code",
   "execution_count": null,
   "metadata": {},
   "outputs": [],
   "source": [
    "robot_positions, robot_velocities = get_robots_positions_velocity_from_data(\n",
    "    todays_examples[0].input_data\n",
    ")"
   ]
  },
  {
   "cell_type": "code",
   "execution_count": null,
   "metadata": {},
   "outputs": [],
   "source": [
    "visualise_robots(robot_positions, (11, 7))"
   ]
  },
  {
   "cell_type": "code",
   "execution_count": null,
   "metadata": {},
   "outputs": [],
   "source": [
    "iterate_robots(robot_positions, robot_velocities, (11, 7), 100)\n",
    "visualise_robots(robot_positions, (11, 7))"
   ]
  },
  {
   "cell_type": "markdown",
   "metadata": {},
   "source": [
    "## Check the period of the robots configuration"
   ]
  },
  {
   "cell_type": "code",
   "execution_count": null,
   "metadata": {},
   "outputs": [],
   "source": [
    "robot_positions, robot_velocities = get_robots_positions_velocity_from_data(data)\n",
    "robot_initial_position = robot_positions.copy()\n",
    "\n",
    "for iteration in range(1, 20001):\n",
    "    iterate_robots(robot_positions, robot_velocities, (101, 103))\n",
    "    if (robot_initial_position == robot_positions).all():\n",
    "        print(f\"{iteration=}\")\n",
    "        break"
   ]
  },
  {
   "cell_type": "markdown",
   "metadata": {},
   "source": [
    "## Check the cases when robots are in unique positions"
   ]
  },
  {
   "cell_type": "code",
   "execution_count": null,
   "metadata": {},
   "outputs": [],
   "source": [
    "robot_positions, robot_velocities = get_robots_positions_velocity_from_data(data)\n",
    "\n",
    "for iteration in range(1, 20001):\n",
    "    iterate_robots(robot_positions, robot_velocities, (101, 103))\n",
    "    grid = robot_positions_to_grid(robot_positions, (101, 103))\n",
    "    if np.max(grid) == 1:\n",
    "        print(f\"solution, at \", iteration)\n",
    "    if (robot_initial_position == robot_positions).all():\n",
    "        print(\"repeated input at \", iteration)\n",
    "        break"
   ]
  },
  {
   "cell_type": "markdown",
   "metadata": {},
   "source": [
    "## Verify the solution"
   ]
  },
  {
   "cell_type": "code",
   "execution_count": null,
   "metadata": {},
   "outputs": [],
   "source": [
    "robot_positions, robot_velocities = get_robots_positions_velocity_from_data(data)\n",
    "\n",
    "iterate_robots(robot_positions, robot_velocities, (101, 103), n=7753)\n",
    "visualise_robots(robot_positions, (101, 103))"
   ]
  }
 ],
 "metadata": {
  "kernelspec": {
   "display_name": ".env",
   "language": "python",
   "name": "python3"
  },
  "language_info": {
   "codemirror_mode": {
    "name": "ipython",
    "version": 3
   },
   "file_extension": ".py",
   "mimetype": "text/x-python",
   "name": "python",
   "nbconvert_exporter": "python",
   "pygments_lexer": "ipython3",
   "version": "3.12.6"
  }
 },
 "nbformat": 4,
 "nbformat_minor": 2
}
