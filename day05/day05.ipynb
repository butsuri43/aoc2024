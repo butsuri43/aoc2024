{
 "cells": [
  {
   "cell_type": "code",
   "execution_count": null,
   "metadata": {},
   "outputs": [],
   "source": [
    "from aocd import data, models, submit\n",
    "from io import StringIO\n",
    "from pathlib import Path\n",
    "import re\n",
    "\n",
    "import pandas as pd"
   ]
  },
  {
   "cell_type": "markdown",
   "metadata": {},
   "source": [
    "# Load data and examples"
   ]
  },
  {
   "cell_type": "code",
   "execution_count": null,
   "metadata": {},
   "outputs": [],
   "source": [
    "puzzle_year = 2024\n",
    "puzzle_day = int(re.match(r\"day(\\d+)\", Path.cwd().name).group(1))"
   ]
  },
  {
   "cell_type": "code",
   "execution_count": null,
   "metadata": {},
   "outputs": [],
   "source": [
    "todays_puzzle = models.Puzzle(year=puzzle_year, day=puzzle_day)\n",
    "todays_examples = todays_puzzle.examples"
   ]
  },
  {
   "cell_type": "code",
   "execution_count": null,
   "metadata": {},
   "outputs": [],
   "source": [
    "def split_list(input: str, delimeter: str):\n",
    "    return [int(x) for x in input.split(delimeter)]\n",
    "\n",
    "\n",
    "def get_rules_and_updates(data):\n",
    "    rules = []\n",
    "    updates = []\n",
    "    for line in data.split(\"\\n\"):\n",
    "        if \"|\" in line:\n",
    "            rules.append(split_list(line, \"|\"))\n",
    "        elif len(line) > 0:\n",
    "            updates.append(split_list(line, \",\"))\n",
    "    return rules, updates"
   ]
  },
  {
   "cell_type": "code",
   "execution_count": null,
   "metadata": {},
   "outputs": [],
   "source": [
    "def get_dict_x_lower_than(rules):\n",
    "    result_dict = {}\n",
    "    for l, r in rules:\n",
    "        if l in result_dict:\n",
    "            result_dict[l].append(r)\n",
    "        else:\n",
    "            result_dict[l] = [r]\n",
    "    return result_dict"
   ]
  },
  {
   "cell_type": "code",
   "execution_count": null,
   "metadata": {},
   "outputs": [],
   "source": [
    "def check_update(update: list, x_lower_than: dict):\n",
    "    for i, v in enumerate(update):\n",
    "        following_pages = update[i + 1 :]\n",
    "        if len(set(following_pages) - set(x_lower_than.get(v, []))) > 0:\n",
    "            return False\n",
    "    return True"
   ]
  },
  {
   "cell_type": "markdown",
   "metadata": {},
   "source": [
    "# Part A"
   ]
  },
  {
   "cell_type": "code",
   "execution_count": null,
   "metadata": {},
   "outputs": [],
   "source": [
    "def part_a(data: str) -> str:\n",
    "    rules, updates = get_rules_and_updates(data)\n",
    "    x_lower_than = get_dict_x_lower_than(rules)\n",
    "    x_greater_than = get_dict_x_greater_than(rules)\n",
    "    results = 0\n",
    "    for update in updates:\n",
    "        if check_update(update, x_lower_than):\n",
    "            results += update[(len(update) - 1) // 2]\n",
    "    return str(results)"
   ]
  },
  {
   "cell_type": "code",
   "execution_count": null,
   "metadata": {},
   "outputs": [],
   "source": [
    "for example_index, example in enumerate(todays_examples):\n",
    "    if example.answer_a != \"\":\n",
    "        print(\n",
    "            f\"Example {example_index} part a: {part_a(example.input_data)} (expected {example.answer_a})\"\n",
    "        )\n",
    "        assert part_a(str(example.input_data)) == example.answer_a\n",
    "submit(part_a(data), part=\"a\", year=puzzle_year, day=puzzle_day)"
   ]
  },
  {
   "cell_type": "markdown",
   "metadata": {},
   "source": [
    "# Part B"
   ]
  },
  {
   "cell_type": "code",
   "execution_count": null,
   "metadata": {},
   "outputs": [],
   "source": [
    "from functools import cmp_to_key"
   ]
  },
  {
   "cell_type": "code",
   "execution_count": null,
   "metadata": {},
   "outputs": [],
   "source": [
    "def part_b(data: str) -> str:\n",
    "    result = 0\n",
    "    rules, updates = get_rules_and_updates(data)\n",
    "    x_lower_than = get_dict_x_lower_than(rules)\n",
    "    x_greater_than = get_dict_x_greater_than(rules)\n",
    "\n",
    "    def compare(x, y):\n",
    "        if x in x_lower_than:\n",
    "            if y in x_lower_than[x]:\n",
    "                return -1\n",
    "            else:\n",
    "                return 0\n",
    "        elif y in x_lower_than:\n",
    "            if x in x_lower_than[y]:\n",
    "                return 1\n",
    "            else:\n",
    "                return 0\n",
    "        return 0\n",
    "\n",
    "    for update in updates:\n",
    "        if not check_update(update, x_lower_than):\n",
    "            sorted_list = sorted(update, key=cmp_to_key(compare))\n",
    "            result += sorted_list[(len(update) - 1) // 2]\n",
    "\n",
    "    return str(result)"
   ]
  },
  {
   "cell_type": "code",
   "execution_count": null,
   "metadata": {},
   "outputs": [],
   "source": [
    "todays_examples[0] = todays_examples[0]._replace(answer_b=\"123\")"
   ]
  },
  {
   "cell_type": "code",
   "execution_count": null,
   "metadata": {},
   "outputs": [],
   "source": [
    "for example_index, example in enumerate(todays_examples):\n",
    "    if example.answer_b != \"\":\n",
    "        print(\n",
    "            f\"Example {example_index} part b: {part_b(example.input_data)} (expected {example.answer_b})\"\n",
    "        )\n",
    "        assert part_b(str(example.input_data)) == example.answer_b\n",
    "submit(part_b(data), part=\"b\", year=puzzle_year, day=puzzle_day)"
   ]
  }
 ],
 "metadata": {
  "kernelspec": {
   "display_name": ".env",
   "language": "python",
   "name": "python3"
  },
  "language_info": {
   "codemirror_mode": {
    "name": "ipython",
    "version": 3
   },
   "file_extension": ".py",
   "mimetype": "text/x-python",
   "name": "python",
   "nbconvert_exporter": "python",
   "pygments_lexer": "ipython3",
   "version": "3.12.6"
  }
 },
 "nbformat": 4,
 "nbformat_minor": 2
}
