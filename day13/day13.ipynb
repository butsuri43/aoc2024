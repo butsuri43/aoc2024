{
 "cells": [
  {
   "cell_type": "code",
   "execution_count": null,
   "metadata": {},
   "outputs": [],
   "source": [
    "from aocd import data, models, submit\n",
    "from io import StringIO\n",
    "from pathlib import Path\n",
    "import re\n",
    "\n",
    "import pandas as pd"
   ]
  },
  {
   "cell_type": "markdown",
   "metadata": {},
   "source": [
    "# Load data and examples"
   ]
  },
  {
   "cell_type": "code",
   "execution_count": null,
   "metadata": {},
   "outputs": [],
   "source": [
    "puzzle_year = 2024\n",
    "puzzle_day = int(re.match(r\"day(\\d+)\", Path.cwd().name).group(1))"
   ]
  },
  {
   "cell_type": "code",
   "execution_count": null,
   "metadata": {},
   "outputs": [],
   "source": [
    "todays_puzzle = models.Puzzle(year=puzzle_year, day=puzzle_day)\n",
    "todays_examples = todays_puzzle.examples"
   ]
  },
  {
   "cell_type": "code",
   "execution_count": null,
   "metadata": {},
   "outputs": [],
   "source": [
    "data = todays_puzzle.input_data"
   ]
  },
  {
   "cell_type": "markdown",
   "metadata": {},
   "source": [
    "# Part A"
   ]
  },
  {
   "cell_type": "code",
   "execution_count": null,
   "metadata": {},
   "outputs": [],
   "source": [
    "def token_cost(button_a, button_b, prize, limit=None):\n",
    "    a1, a2 = button_a\n",
    "    b1, b2 = button_b\n",
    "    p1, p2 = prize\n",
    "    na = 0\n",
    "    nb = 0\n",
    "    if a2 == 0 and b2 != 0:\n",
    "        nb = p2 // b2\n",
    "        na = (b2 * p1 - b1 * p2) // (b2 * a1) if a1 != 0 else 0\n",
    "    elif a2 != 0:\n",
    "        nb = (a2 * p1 - a1 * p2) // (b1 * a2 - a1 * b2) if b1 * a2 != a1 * b2 else 0\n",
    "        na = (p2 - b2 * nb) // a2\n",
    "    else:\n",
    "        # a2==0 and b2==0\n",
    "        nb = p1 // b1\n",
    "\n",
    "    if limit is not None and na > limit:\n",
    "        na = 0\n",
    "    if limit is not None and nb > limit:\n",
    "        nb = 0\n",
    "    if p1 == na * a1 + nb * b1 and p2 == na * a2 + nb * b2:\n",
    "        return 3 * na + nb\n",
    "    return 0"
   ]
  },
  {
   "cell_type": "code",
   "execution_count": null,
   "metadata": {},
   "outputs": [],
   "source": [
    "def part_a(data: str) -> str:\n",
    "    buttons_a = re.findall(\n",
    "        r\"Button A: X([+,-]\\d+), Y([+,-]\\d+)\", data, flags=re.MULTILINE\n",
    "    )\n",
    "    buttons_b = re.findall(\n",
    "        r\"Button B: X([+,-]\\d+), Y([+,-]\\d+)\", data, flags=re.MULTILINE\n",
    "    )\n",
    "    prizes = re.findall(r\"Prize: X=(-?\\d+), Y=(-?\\d+)\", data, flags=re.MULTILINE)\n",
    "    buttons_a = [(int(x), int(y)) for x, y in buttons_a]\n",
    "    buttons_b = [(int(x), int(y)) for x, y in buttons_b]\n",
    "    prizes = [(int(x), int(y)) for x, y in prizes]\n",
    "    result = 0\n",
    "    for a, b, p in zip(buttons_a, buttons_b, prizes):\n",
    "        result += token_cost(a, b, p, limit=100)\n",
    "    return str(result)"
   ]
  },
  {
   "cell_type": "code",
   "execution_count": null,
   "metadata": {},
   "outputs": [],
   "source": [
    "todays_examples[0] = todays_examples[0]._replace(answer_a=\"480\")"
   ]
  },
  {
   "cell_type": "code",
   "execution_count": null,
   "metadata": {},
   "outputs": [],
   "source": [
    "for example_index, example in enumerate(todays_examples):\n",
    "    if example.answer_a != \"\":\n",
    "        print(\n",
    "            f\"Example {example_index} part a: {part_a(example.input_data)} (expected {example.answer_a})\"\n",
    "        )\n",
    "        assert part_a(str(example.input_data)) == example.answer_a\n",
    "submit(part_a(data), part=\"a\", year=puzzle_year, day=puzzle_day)"
   ]
  },
  {
   "cell_type": "markdown",
   "metadata": {},
   "source": [
    "# Part B"
   ]
  },
  {
   "cell_type": "code",
   "execution_count": null,
   "metadata": {},
   "outputs": [],
   "source": [
    "def part_b(data: str) -> str:\n",
    "    extra_factor = 10000000000000\n",
    "    buttons_a = re.findall(\n",
    "        r\"Button A: X([+,-]\\d+), Y([+,-]\\d+)\", data, flags=re.MULTILINE\n",
    "    )\n",
    "    buttons_b = re.findall(\n",
    "        r\"Button B: X([+,-]\\d+), Y([+,-]\\d+)\", data, flags=re.MULTILINE\n",
    "    )\n",
    "    prizes = re.findall(r\"Prize: X=(-?\\d+), Y=(-?\\d+)\", data, flags=re.MULTILINE)\n",
    "    buttons_a = [(int(x), int(y)) for x, y in buttons_a]\n",
    "    buttons_b = [(int(x), int(y)) for x, y in buttons_b]\n",
    "    prizes = [(int(x) + extra_factor, int(y) + extra_factor) for x, y in prizes]\n",
    "    result = 0\n",
    "    for a, b, p in zip(buttons_a, buttons_b, prizes):\n",
    "        result += token_cost(a, b, p)\n",
    "    return str(result)"
   ]
  },
  {
   "cell_type": "code",
   "execution_count": null,
   "metadata": {},
   "outputs": [],
   "source": [
    "submit(part_b(data), part=\"b\", year=puzzle_year, day=puzzle_day)"
   ]
  }
 ],
 "metadata": {
  "kernelspec": {
   "display_name": ".env",
   "language": "python",
   "name": "python3"
  },
  "language_info": {
   "codemirror_mode": {
    "name": "ipython",
    "version": 3
   },
   "file_extension": ".py",
   "mimetype": "text/x-python",
   "name": "python",
   "nbconvert_exporter": "python",
   "pygments_lexer": "ipython3",
   "version": "3.12.6"
  }
 },
 "nbformat": 4,
 "nbformat_minor": 2
}
