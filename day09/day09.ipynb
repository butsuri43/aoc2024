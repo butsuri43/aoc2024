{
 "cells": [
  {
   "cell_type": "code",
   "execution_count": null,
   "metadata": {},
   "outputs": [],
   "source": [
    "from aocd import data, models, submit\n",
    "from io import StringIO\n",
    "from pathlib import Path\n",
    "import re\n",
    "\n",
    "import pandas as pd\n",
    "import numpy as np"
   ]
  },
  {
   "cell_type": "markdown",
   "metadata": {},
   "source": [
    "# Load data and examples"
   ]
  },
  {
   "cell_type": "code",
   "execution_count": null,
   "metadata": {},
   "outputs": [],
   "source": [
    "puzzle_year = 2024\n",
    "puzzle_day = int(re.match(r\"day(\\d+)\", Path.cwd().name).group(1))"
   ]
  },
  {
   "cell_type": "code",
   "execution_count": null,
   "metadata": {},
   "outputs": [],
   "source": [
    "todays_puzzle = models.Puzzle(year=puzzle_year, day=puzzle_day)\n",
    "todays_examples = todays_puzzle.examples"
   ]
  },
  {
   "cell_type": "markdown",
   "metadata": {},
   "source": [
    "# Part A"
   ]
  },
  {
   "cell_type": "code",
   "execution_count": null,
   "metadata": {},
   "outputs": [],
   "source": [
    "def part_a(data: str) -> str:\n",
    "    digits = [int(digit) for digit in data]\n",
    "    file_sizes = digits[::2]\n",
    "    gap_sizes = digits[1::2]\n",
    "    nr_of_files = len(file_sizes)\n",
    "\n",
    "    i = file_sizes[0]  # The first file does not contribute to the check sum\n",
    "    result = 0\n",
    "    file_index_left = 1\n",
    "    file_index_right = nr_of_files - 1\n",
    "    gap_index = 0\n",
    "    while file_index_left <= file_index_right:\n",
    "        # we fill the gap corresponding to the indices\n",
    "        # [i, i+1, i+2, ..., i+len(gap)-1]\n",
    "        gap_size = gap_sizes[gap_index]\n",
    "        while gap_size > 0:\n",
    "            gap_size -= 1\n",
    "            result += i * file_index_right\n",
    "            i += 1\n",
    "            file_sizes[file_index_right] -= 1\n",
    "            while file_index_right > 1 and file_sizes[file_index_right] < 1:\n",
    "                file_index_right -= 1\n",
    "        gap_index += 1\n",
    "        # now we fill the data file at the indices\n",
    "        # [i',i'+1,i'+2, ... , i'+len(file)-1]\n",
    "        # where i'=i+len(gap)-1\n",
    "        file_size = file_sizes[file_index_left]\n",
    "        result += file_index_left * (\n",
    "            i * file_size + (file_size - 1) * file_size // 2\n",
    "        )  # there is just one file at the current memory position\n",
    "        i += file_size\n",
    "        file_sizes[file_index_left] = 0\n",
    "        file_index_left += 1\n",
    "    return str(result)"
   ]
  },
  {
   "cell_type": "code",
   "execution_count": null,
   "metadata": {},
   "outputs": [],
   "source": [
    "for example_index, example in enumerate(todays_examples):\n",
    "    if example.answer_a != \"\":\n",
    "        print(\n",
    "            f\"Example {example_index} part a: {part_a(example.input_data)} (expected {example.answer_a})\"\n",
    "        )\n",
    "        assert part_a(str(example.input_data)) == example.answer_a\n",
    "submit(part_a(data), part=\"a\", year=puzzle_year, day=puzzle_day)"
   ]
  },
  {
   "cell_type": "markdown",
   "metadata": {},
   "source": [
    "# Part B"
   ]
  },
  {
   "cell_type": "code",
   "execution_count": null,
   "metadata": {},
   "outputs": [],
   "source": [
    "def part_b(data: str) -> str:\n",
    "    digits = np.array([int(digit) for digit in data])\n",
    "    unit_start_location = np.concat([np.array([0]), np.cumsum(digits)[:-1]])\n",
    "    n_digits = len(digits)\n",
    "\n",
    "    result = 0\n",
    "    # We negate the length of the gaps\n",
    "    digits[1::2] = -digits[1::2]\n",
    "    unit_index = n_digits\n",
    "    while unit_index > 0:\n",
    "        unit_index -= 1\n",
    "        while digits[unit_index] <= 0:\n",
    "            unit_index -= 1\n",
    "        file_size = digits[unit_index]\n",
    "        file_counter = unit_index // 2\n",
    "        file_start_memory_position = unit_start_location[unit_index]\n",
    "        for gap_index in range(1, unit_index, 2):\n",
    "            # print(f'{gap_index=}, {digits[gap_index]=}')\n",
    "            if digits[gap_index] <= -1 * file_size:\n",
    "                # found a place to move the file into\n",
    "                file_start_memory_position = unit_start_location[gap_index]\n",
    "                digits[unit_index] = 0\n",
    "                # fill the gap with the file\n",
    "                digits[gap_index] += file_size\n",
    "                unit_start_location[gap_index] += file_size\n",
    "                break\n",
    "        file_hash = file_counter * (\n",
    "            file_start_memory_position * file_size + file_size * (file_size - 1) // 2\n",
    "        )\n",
    "        result += file_hash\n",
    "    return str(result)"
   ]
  },
  {
   "cell_type": "code",
   "execution_count": null,
   "metadata": {},
   "outputs": [],
   "source": [
    "todays_examples[0] = todays_examples[0]._replace(answer_b=\"2858\")"
   ]
  }
 ],
 "metadata": {
  "kernelspec": {
   "display_name": ".env",
   "language": "python",
   "name": "python3"
  },
  "language_info": {
   "codemirror_mode": {
    "name": "ipython",
    "version": 3
   },
   "file_extension": ".py",
   "mimetype": "text/x-python",
   "name": "python",
   "nbconvert_exporter": "python",
   "pygments_lexer": "ipython3",
   "version": "3.12.6"
  }
 },
 "nbformat": 4,
 "nbformat_minor": 2
}
