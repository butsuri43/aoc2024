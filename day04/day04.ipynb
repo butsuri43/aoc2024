{
 "cells": [
  {
   "cell_type": "code",
   "execution_count": null,
   "metadata": {},
   "outputs": [],
   "source": [
    "from aocd import data, models, submit\n",
    "from io import StringIO\n",
    "from pathlib import Path\n",
    "import re\n",
    "\n",
    "import pandas as pd\n",
    "import numpy as np"
   ]
  },
  {
   "cell_type": "markdown",
   "metadata": {},
   "source": [
    "# Load data and examples"
   ]
  },
  {
   "cell_type": "code",
   "execution_count": null,
   "metadata": {},
   "outputs": [],
   "source": [
    "puzzle_year = 2024\n",
    "puzzle_day = int(re.match(r\"day(\\d+)\", Path.cwd().name).group(1))"
   ]
  },
  {
   "cell_type": "code",
   "execution_count": null,
   "metadata": {},
   "outputs": [],
   "source": [
    "todays_puzzle = models.Puzzle(year=puzzle_year, day=puzzle_day)\n",
    "todays_examples = todays_puzzle.examples"
   ]
  },
  {
   "cell_type": "markdown",
   "metadata": {},
   "source": [
    "# Part A"
   ]
  },
  {
   "cell_type": "code",
   "execution_count": null,
   "metadata": {},
   "outputs": [],
   "source": [
    "def count_word_occurence(char_list, word):\n",
    "    return len(re.findall(word, \"\".join(char_list)))"
   ]
  },
  {
   "cell_type": "code",
   "execution_count": null,
   "metadata": {},
   "outputs": [],
   "source": [
    "def count_xmas(char_list):\n",
    "    return count_word_occurence(char_list, \"XMAS\") + count_word_occurence(\n",
    "        char_list, \"SAMX\"\n",
    "    )"
   ]
  },
  {
   "cell_type": "code",
   "execution_count": null,
   "metadata": {},
   "outputs": [],
   "source": [
    "def part_a(data: str) -> str:\n",
    "    input_matrix = np.array([[c for c in row] for row in data.split(\"\\n\")])\n",
    "    n = len(input_matrix)\n",
    "    result = 0\n",
    "    # row-wise\n",
    "    result += sum([count_xmas(input_matrix[row_num]) for row_num in range(n)])\n",
    "    # column-wise\n",
    "    result += sum([count_xmas(input_matrix.T[row_num]) for row_num in range(n)])\n",
    "    # diagonal\n",
    "    result += sum(\n",
    "        [count_xmas(input_matrix.diagonal(diag_num)) for diag_num in range(-n, n + 1)]\n",
    "    )\n",
    "    result += sum(\n",
    "        [\n",
    "            count_xmas(input_matrix[:, ::-1].diagonal(diag_num))\n",
    "            for diag_num in range(-n, n + 1)\n",
    "        ]\n",
    "    )\n",
    "    return str(result)"
   ]
  },
  {
   "cell_type": "code",
   "execution_count": null,
   "metadata": {},
   "outputs": [],
   "source": [
    "todays_examples[0] = todays_examples[0]\n",
    "todays_examples[0] = todays_examples[0]._replace(\n",
    "    input_data=\"\"\"MMMSXXMASM\n",
    "MSAMXMSMSA\n",
    "AMXSXMAAMM\n",
    "MSAMASMSMX\n",
    "XMASAMXAMM\n",
    "XXAMMXXAMA\n",
    "SMSMSASXSS\n",
    "SAXAMASAAA\n",
    "MAMMMXMMMM\n",
    "MXMXAXMASX\"\"\",\n",
    "    answer_a=\"18\",\n",
    ")"
   ]
  },
  {
   "cell_type": "code",
   "execution_count": null,
   "metadata": {},
   "outputs": [],
   "source": [
    "for example_index, example in enumerate(todays_examples):\n",
    "    if example.answer_a != \"\":\n",
    "        print(\n",
    "            f\"Example {example_index} part a: {part_a(example.input_data)} (expected {example.answer_a})\"\n",
    "        )\n",
    "        assert part_a(str(example.input_data)) == example.answer_a\n",
    "submit(part_a(data), part=\"a\", year=puzzle_year, day=puzzle_day)"
   ]
  },
  {
   "cell_type": "markdown",
   "metadata": {},
   "source": [
    "# Part B"
   ]
  },
  {
   "cell_type": "code",
   "execution_count": null,
   "metadata": {},
   "outputs": [],
   "source": [
    "def get_nxn_squares_flattened(data: np.ndarray, n: int):\n",
    "    rows, cols = data.shape\n",
    "    results = []\n",
    "    for row in range(rows - n + 1):\n",
    "        for col in range(cols - n + 1):\n",
    "            results.append(\"\".join(data[row : row + n, col : col + n].flatten()))\n",
    "    return results"
   ]
  },
  {
   "cell_type": "code",
   "execution_count": null,
   "metadata": {},
   "outputs": [],
   "source": [
    "def part_b(data: str) -> str:\n",
    "    input_matrix = np.array([[c for c in row] for row in data.split(\"\\n\")])\n",
    "    n = len(input_matrix)\n",
    "    all_squares_flattened = get_nxn_squares_flattened(input_matrix, 3)\n",
    "    result = 0\n",
    "    result += sum([square[::2] == \"MSAMS\" for square in all_squares_flattened])\n",
    "    result += sum([square[::2] == \"MMASS\" for square in all_squares_flattened])\n",
    "    result += sum([square[::2] == \"SMASM\" for square in all_squares_flattened])\n",
    "    result += sum([square[::2] == \"SSAMM\" for square in all_squares_flattened])\n",
    "    return str(result)"
   ]
  },
  {
   "cell_type": "code",
   "execution_count": null,
   "metadata": {},
   "outputs": [],
   "source": [
    "todays_examples[0] = todays_examples[0]._replace(answer_b=\"9\")"
   ]
  },
  {
   "cell_type": "code",
   "execution_count": null,
   "metadata": {},
   "outputs": [],
   "source": [
    "for example_index, example in enumerate(todays_examples):\n",
    "    if example.answer_b != \"\":\n",
    "        print(\n",
    "            f\"Example {example_index} part b: {part_b(example.input_data)} (expected {example.answer_b})\"\n",
    "        )\n",
    "        assert part_b(str(example.input_data)) == example.answer_b\n",
    "submit(part_b(data), part=\"b\", year=puzzle_year, day=puzzle_day)"
   ]
  }
 ],
 "metadata": {
  "kernelspec": {
   "display_name": ".env",
   "language": "python",
   "name": "python3"
  },
  "language_info": {
   "codemirror_mode": {
    "name": "ipython",
    "version": 3
   },
   "file_extension": ".py",
   "mimetype": "text/x-python",
   "name": "python",
   "nbconvert_exporter": "python",
   "pygments_lexer": "ipython3",
   "version": "3.12.6"
  }
 },
 "nbformat": 4,
 "nbformat_minor": 2
}
