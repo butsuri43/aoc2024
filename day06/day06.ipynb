{
 "cells": [
  {
   "cell_type": "code",
   "execution_count": null,
   "metadata": {},
   "outputs": [],
   "source": [
    "from aocd import data, models, submit\n",
    "from io import StringIO\n",
    "from pathlib import Path\n",
    "import re\n",
    "\n",
    "import pandas as pd\n",
    "import numpy as np"
   ]
  },
  {
   "cell_type": "markdown",
   "metadata": {},
   "source": [
    "# Load data and examples"
   ]
  },
  {
   "cell_type": "code",
   "execution_count": null,
   "metadata": {},
   "outputs": [],
   "source": [
    "puzzle_year = 2024\n",
    "puzzle_day = int(re.match(r\"day(\\d+)\", Path.cwd().name).group(1))"
   ]
  },
  {
   "cell_type": "code",
   "execution_count": null,
   "metadata": {},
   "outputs": [],
   "source": [
    "todays_puzzle = models.Puzzle(year=puzzle_year, day=puzzle_day)\n",
    "todays_examples = todays_puzzle.examples"
   ]
  },
  {
   "cell_type": "code",
   "execution_count": null,
   "metadata": {},
   "outputs": [],
   "source": [
    "data = todays_puzzle.input_data"
   ]
  },
  {
   "cell_type": "markdown",
   "metadata": {},
   "source": [
    "# Part A"
   ]
  },
  {
   "cell_type": "code",
   "execution_count": null,
   "metadata": {},
   "outputs": [],
   "source": [
    "def fill_right_until_obstacle(grid_data, current_position):\n",
    "    curr_x, curr_y = current_position\n",
    "    current_row = grid_data[curr_x]\n",
    "    n = len(current_row)\n",
    "    while curr_y < n and current_row[curr_y] != \"#\":\n",
    "        current_row[curr_y] = \"x\"\n",
    "        curr_y += 1\n",
    "    curr_y -= 1\n",
    "    grid_data = np.rot90(grid_data, k=1)\n",
    "    # need to rotate the current position as well\n",
    "    curr_x, curr_y = n - 1 - curr_y, curr_x\n",
    "    return grid_data, (curr_x, curr_y)  # current position"
   ]
  },
  {
   "cell_type": "code",
   "execution_count": null,
   "metadata": {},
   "outputs": [],
   "source": [
    "def part_a(data: str) -> str:\n",
    "    grid_data = np.array([[x for x in line] for line in data.split()])\n",
    "    rotation_count = {\n",
    "        \"^\": 3,\n",
    "        \"v\": 1,\n",
    "        \">\": 0,\n",
    "        \"<\": 2,\n",
    "    }  # to rotate the board anti-clockwise to have the guard going left\n",
    "    initial_position = np.argwhere(\n",
    "        (grid_data == \"<\")\n",
    "        + (grid_data == \">\")\n",
    "        + (grid_data == \"^\")\n",
    "        + (grid_data == \"v\")\n",
    "    )\n",
    "    n = grid_data.shape[0]\n",
    "    curr_x, curr_y = initial_position[0]\n",
    "    initial_rotation_count = rotation_count[grid_data[curr_x][curr_y]]\n",
    "\n",
    "    grid_data[curr_x][curr_y] = \"S\"\n",
    "    grid_data = np.rot90(grid_data, k=initial_rotation_count)\n",
    "\n",
    "    curr_x, curr_y = np.argwhere(grid_data == \"S\")[0]\n",
    "\n",
    "    while curr_x != 0:\n",
    "        grid_data, (curr_x, curr_y) = fill_right_until_obstacle(\n",
    "            grid_data, (curr_x, curr_y)\n",
    "        )\n",
    "\n",
    "    result = (grid_data == \"x\").sum()\n",
    "    return str(result)"
   ]
  },
  {
   "cell_type": "code",
   "execution_count": null,
   "metadata": {},
   "outputs": [],
   "source": [
    "for example_index, example in enumerate(todays_examples):\n",
    "    if example.answer_a != \"\":\n",
    "        print(\n",
    "            f\"Example {example_index} part a: {part_a(example.input_data)} (expected {example.answer_a})\"\n",
    "        )\n",
    "        assert part_a(str(example.input_data)) == example.answer_a\n",
    "submit(part_a(data), part=\"a\", year=puzzle_year, day=puzzle_day)"
   ]
  },
  {
   "cell_type": "markdown",
   "metadata": {},
   "source": [
    "# Part B"
   ]
  },
  {
   "cell_type": "code",
   "execution_count": null,
   "metadata": {},
   "outputs": [],
   "source": [
    "# clock-wise rotation\n",
    "rotation_matrix = np.array([[0, -1], [1, 0]])"
   ]
  },
  {
   "cell_type": "code",
   "execution_count": null,
   "metadata": {},
   "outputs": [],
   "source": [
    "from dataclasses import dataclass"
   ]
  },
  {
   "cell_type": "code",
   "execution_count": null,
   "metadata": {},
   "outputs": [],
   "source": [
    "@dataclass(frozen=True)\n",
    "class TurningPointAndHeadings:\n",
    "    point: tuple\n",
    "    heading: tuple"
   ]
  },
  {
   "cell_type": "code",
   "execution_count": null,
   "metadata": {},
   "outputs": [],
   "source": [
    "def find_all_turning_points(\n",
    "    grid_data, initial_position, initial_heading\n",
    ") -> list | None:\n",
    "    heading = initial_heading\n",
    "    n = grid_data.shape[0]\n",
    "\n",
    "    i, k = initial_position\n",
    "    turning_points_and_headings = []\n",
    "    # end condition works only in the examples where the guard\n",
    "    # does not start at the edge, but for me this works :D\n",
    "    while i != 0 and i != n - 1 and k != 0 and k != n - 1:\n",
    "        next_i, next_k = i + heading[0], k + heading[1]\n",
    "        if grid_data[next_i, next_k] == \"#\":\n",
    "            curr_point_and_heading = TurningPointAndHeadings((i, k), tuple(heading))\n",
    "            if curr_point_and_heading in turning_points_and_headings:\n",
    "                # Loop detected\n",
    "                return None\n",
    "            turning_points_and_headings.append(curr_point_and_heading)\n",
    "            heading = np.matmul(heading, rotation_matrix)\n",
    "        else:\n",
    "            i, k = next_i, next_k\n",
    "    turning_point = [tph.point for tph in turning_points_and_headings]\n",
    "    # add exit point\n",
    "    turning_point.append((i, k))\n",
    "    return turning_point"
   ]
  },
  {
   "cell_type": "code",
   "execution_count": null,
   "metadata": {},
   "outputs": [],
   "source": [
    "def part_b(data: str) -> str:\n",
    "    heading_dict = {\"^\": (-1, 0), \"v\": (1, 0), \"<\": (0, -1), \">\": (0, 1)}\n",
    "    grid_data = np.array([[x for x in line] for line in data.split()])\n",
    "    initial_position = np.argwhere(\n",
    "        (grid_data == \"<\")\n",
    "        + (grid_data == \">\")\n",
    "        + (grid_data == \"^\")\n",
    "        + (grid_data == \"v\")\n",
    "    )[0]\n",
    "    n = grid_data.shape[0]\n",
    "    curr_x, curr_y = initial_position\n",
    "    initial_heading = heading_dict[grid_data[curr_x][curr_y]]\n",
    "    turning_points = find_all_turning_points(\n",
    "        grid_data, initial_position, initial_heading\n",
    "    )\n",
    "    sucessfull_obstacle_placements = set()\n",
    "    result = 0\n",
    "    for curr_point, next_point in zip(\n",
    "        [initial_position] + turning_points, turning_points\n",
    "    ):\n",
    "        curr_point, next_point = np.array(curr_point), np.array(next_point)\n",
    "        heading = next_point - curr_point\n",
    "        distance = max(heading)\n",
    "\n",
    "        heading_sign = np.sign(heading)\n",
    "        # normalise heading knowing that we can move in only one direction\n",
    "        heading = heading_sign * heading.astype(bool).astype(int)\n",
    "        heading_rot90 = np.matmul(heading, rotation_matrix)\n",
    "\n",
    "        # We place an obstacle along the path of the guard and check if this works\n",
    "        obstacle_placement = curr_point\n",
    "        while True:\n",
    "            obstacle_placement += heading\n",
    "            initial_field = grid_data[tuple(obstacle_placement)]\n",
    "            grid_data[tuple(obstacle_placement)] = \"#\"\n",
    "            if (\n",
    "                find_all_turning_points(grid_data, initial_position, initial_heading)\n",
    "                is None\n",
    "            ):\n",
    "                sucessfull_obstacle_placements.add(tuple(obstacle_placement))\n",
    "            grid_data[tuple(obstacle_placement)] = initial_field\n",
    "            if np.all(obstacle_placement == next_point):\n",
    "                break\n",
    "    result = len(sucessfull_obstacle_placements)\n",
    "    return str(result)"
   ]
  },
  {
   "cell_type": "code",
   "execution_count": null,
   "metadata": {},
   "outputs": [],
   "source": [
    "todays_examples[0] = todays_examples[0]._replace(answer_b=\"6\")"
   ]
  },
  {
   "cell_type": "code",
   "execution_count": null,
   "metadata": {},
   "outputs": [],
   "source": [
    "for example_index, example in enumerate(todays_examples):\n",
    "    if example.answer_b != \"\":\n",
    "        print(\n",
    "            f\"Example {example_index} part b: {part_b(example.input_data)} (expected {example.answer_b})\"\n",
    "        )\n",
    "        assert part_b(str(example.input_data)) == example.answer_b\n",
    "submit(part_b(data), part=\"b\", year=puzzle_year, day=puzzle_day)"
   ]
  },
  {
   "cell_type": "code",
   "execution_count": null,
   "metadata": {},
   "outputs": [],
   "source": []
  }
 ],
 "metadata": {
  "kernelspec": {
   "display_name": ".env",
   "language": "python",
   "name": "python3"
  },
  "language_info": {
   "codemirror_mode": {
    "name": "ipython",
    "version": 3
   },
   "file_extension": ".py",
   "mimetype": "text/x-python",
   "name": "python",
   "nbconvert_exporter": "python",
   "pygments_lexer": "ipython3",
   "version": "3.12.6"
  }
 },
 "nbformat": 4,
 "nbformat_minor": 2
}
