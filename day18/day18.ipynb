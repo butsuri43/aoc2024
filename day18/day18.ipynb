{
 "cells": [
  {
   "cell_type": "code",
   "execution_count": 1,
   "metadata": {},
   "outputs": [],
   "source": [
    "from aocd import data, models, submit\n",
    "from io import StringIO\n",
    "from pathlib import Path\n",
    "import re\n",
    "\n",
    "import pandas as pd\n",
    "import numpy as np"
   ]
  },
  {
   "cell_type": "markdown",
   "metadata": {},
   "source": [
    "# Load data and examples"
   ]
  },
  {
   "cell_type": "code",
   "execution_count": 2,
   "metadata": {},
   "outputs": [],
   "source": [
    "puzzle_year = 2024\n",
    "puzzle_day = int(re.match(r\"day(\\d+)\", Path.cwd().name).group(1))"
   ]
  },
  {
   "cell_type": "code",
   "execution_count": 3,
   "metadata": {},
   "outputs": [],
   "source": [
    "todays_puzzle = models.Puzzle(year=puzzle_year, day=puzzle_day)\n",
    "todays_examples = todays_puzzle.examples\n",
    "data = todays_puzzle.input_data"
   ]
  },
  {
   "cell_type": "markdown",
   "metadata": {},
   "source": [
    "# Part A"
   ]
  },
  {
   "cell_type": "code",
   "execution_count": 51,
   "metadata": {},
   "outputs": [],
   "source": [
    "def find_shortest_path_length(map: np.ndarray):\n",
    "    map_size = map.shape[0]\n",
    "    current_points = []\n",
    "    next_points = [(0, 0)]\n",
    "    visited = set([(0, 0)])\n",
    "    num_steps_made = 0\n",
    "    while len(next_points) > 0:\n",
    "        current_points = next_points\n",
    "        next_points = []\n",
    "        for point in current_points:\n",
    "            if point == (map_size - 1, map_size - 1):\n",
    "                return num_steps_made\n",
    "            if map[point] == False:\n",
    "                continue\n",
    "            for step in [(-1, 0), (1, 0), (0, -1), (0, 1)]:\n",
    "                next_point = tuple(np.array(point) + step)\n",
    "                if (\n",
    "                    0 <= next_point[0] < map_size\n",
    "                    and 0 <= next_point[1] < map_size\n",
    "                    and next_point not in visited\n",
    "                ):\n",
    "                    visited.add(next_point)\n",
    "                    next_points.append(next_point)\n",
    "        num_steps_made += 1\n",
    "    raise ValueError(\"No path to exit found\")"
   ]
  },
  {
   "cell_type": "code",
   "execution_count": 52,
   "metadata": {},
   "outputs": [],
   "source": [
    "def part_a(data: str, memory_size: int, n_blockages: int) -> str:\n",
    "    map = np.ones((memory_size, memory_size), dtype=bool)\n",
    "    blockage_locations = [\n",
    "        (int(x), int(y))\n",
    "        for y, x in re.findall(r\"(\\d+),(\\d+)\", data, flags=re.MULTILINE)\n",
    "    ]\n",
    "    for index in range(min(n_blockages, len(blockage_locations))):\n",
    "        map[blockage_locations[index]] = False\n",
    "    result = find_shortest_path_length(map)\n",
    "    return str(result)"
   ]
  },
  {
   "cell_type": "code",
   "execution_count": null,
   "metadata": {},
   "outputs": [],
   "source": [
    "todays_examples[0] = todays_examples[0]._replace(answer_a=\"22\")"
   ]
  },
  {
   "cell_type": "code",
   "execution_count": null,
   "metadata": {},
   "outputs": [],
   "source": [
    "for example_index, example in enumerate(todays_examples):\n",
    "    if example.answer_a != \"\":\n",
    "        print(\n",
    "            f\"Example {example_index} part a: {part_a(example.input_data,7,12)} (expected {example.answer_a})\"\n",
    "        )\n",
    "        assert part_a(str(example.input_data), 7, 12) == example.answer_a\n",
    "submit(part_a(data, 71, 1024), part=\"a\", year=puzzle_year, day=puzzle_day)"
   ]
  },
  {
   "cell_type": "markdown",
   "metadata": {},
   "source": [
    "# Part B"
   ]
  },
  {
   "cell_type": "code",
   "execution_count": 75,
   "metadata": {},
   "outputs": [],
   "source": [
    "from tqdm import tqdm"
   ]
  },
  {
   "cell_type": "code",
   "execution_count": 91,
   "metadata": {},
   "outputs": [],
   "source": [
    "def part_b(data: str, memory_size: int) -> str:\n",
    "    map = np.ones((memory_size, memory_size), dtype=bool)\n",
    "    blockage_locations = [\n",
    "        (int(x), int(y))\n",
    "        for y, x in re.findall(r\"(\\d+),(\\d+)\", data, flags=re.MULTILINE)\n",
    "    ]\n",
    "    print(len(blockage_locations))\n",
    "    for index in tqdm(range(len(blockage_locations))):\n",
    "        map[blockage_locations[index]] = False\n",
    "        try:\n",
    "            find_shortest_path_length(map)\n",
    "        except ValueError:\n",
    "            return \",\".join([str(x) for x in blockage_locations[index][::-1]])\n",
    "    raise ValueError(\"No solution found\")"
   ]
  },
  {
   "cell_type": "code",
   "execution_count": 94,
   "metadata": {},
   "outputs": [],
   "source": [
    "todays_examples[0] = todays_examples[0]._replace(answer_b=\"6,1\")"
   ]
  },
  {
   "cell_type": "code",
   "execution_count": null,
   "metadata": {},
   "outputs": [],
   "source": [
    "for example_index, example in enumerate(todays_examples):\n",
    "    if example.answer_b != \"\":\n",
    "        example_output = part_b(str(example.input_data), 7)\n",
    "        print(\n",
    "            f\"Example {example_index} part b: {example_output} (expected {example.answer_b})\"\n",
    "        )\n",
    "        assert example_output == example.answer_b\n",
    "output = part_b(data, 71)\n",
    "print(f\"{output=}\")\n",
    "submit(output, part=\"b\", year=puzzle_year, day=puzzle_day)"
   ]
  }
 ],
 "metadata": {
  "kernelspec": {
   "display_name": ".env",
   "language": "python",
   "name": "python3"
  },
  "language_info": {
   "codemirror_mode": {
    "name": "ipython",
    "version": 3
   },
   "file_extension": ".py",
   "mimetype": "text/x-python",
   "name": "python",
   "nbconvert_exporter": "python",
   "pygments_lexer": "ipython3",
   "version": "3.12.6"
  }
 },
 "nbformat": 4,
 "nbformat_minor": 2
}
