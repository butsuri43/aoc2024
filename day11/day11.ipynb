{
 "cells": [
  {
   "cell_type": "code",
   "execution_count": null,
   "metadata": {},
   "outputs": [],
   "source": [
    "from aocd import data, models, submit\n",
    "from io import StringIO\n",
    "from pathlib import Path\n",
    "import re\n",
    "\n",
    "import pandas as pd\n",
    "from typing import Self"
   ]
  },
  {
   "cell_type": "markdown",
   "metadata": {},
   "source": [
    "# Load data and examples"
   ]
  },
  {
   "cell_type": "code",
   "execution_count": null,
   "metadata": {},
   "outputs": [],
   "source": [
    "puzzle_year = 2024\n",
    "puzzle_day = int(re.match(r\"day(\\d+)\", Path.cwd().name).group(1))"
   ]
  },
  {
   "cell_type": "code",
   "execution_count": null,
   "metadata": {},
   "outputs": [],
   "source": [
    "todays_puzzle = models.Puzzle(year=puzzle_year, day=puzzle_day)\n",
    "todays_examples = todays_puzzle.examples"
   ]
  },
  {
   "cell_type": "markdown",
   "metadata": {},
   "source": [
    "# Part A"
   ]
  },
  {
   "cell_type": "code",
   "execution_count": null,
   "metadata": {},
   "outputs": [],
   "source": [
    "todays_examples[0] = todays_examples[0]._replace(input_data=\"125 17\")\n",
    "todays_examples"
   ]
  },
  {
   "cell_type": "code",
   "execution_count": null,
   "metadata": {},
   "outputs": [],
   "source": [
    "# too early optimisation...\n",
    "class Stone:\n",
    "    def __init__(self, val: int, left: Self | None = None, right: Self | None = None):\n",
    "        self.val = val\n",
    "        self.left = left\n",
    "        self.right = right\n",
    "\n",
    "    def blink(self):\n",
    "        if self.val == 0:\n",
    "            self.val = 1\n",
    "        elif len(str(self.val)) % 2 == 0:\n",
    "            val_str = str(self.val)\n",
    "            left_val = int(val_str[: len(val_str) // 2])\n",
    "            right_val = int(val_str[len(val_str) // 2 :])\n",
    "            self.val = left_val\n",
    "            old_right_stone = self.right\n",
    "            self.right = Stone(right_val, self, old_right_stone)\n",
    "            if old_right_stone != None:\n",
    "                old_right_stone.left = self.right\n",
    "        else:\n",
    "            self.val *= 2024\n",
    "\n",
    "    def __repr__(self):\n",
    "        return f\"Stone({str(self.val)})\""
   ]
  },
  {
   "cell_type": "code",
   "execution_count": null,
   "metadata": {},
   "outputs": [],
   "source": [
    "def stone_values_to_stone_list(stone_values: list[int]):\n",
    "    if len(stone_values) < 1:\n",
    "        return None\n",
    "    initial_stone = Stone(stone_values[0])\n",
    "    curr_stone = initial_stone\n",
    "    for val in stone_values[1:]:\n",
    "        curr_stone.right = Stone(val, curr_stone)\n",
    "        curr_stone = curr_stone.right\n",
    "    return initial_stone"
   ]
  },
  {
   "cell_type": "code",
   "execution_count": null,
   "metadata": {},
   "outputs": [],
   "source": [
    "def blink_stone_row(initial_stone: Stone):\n",
    "    curr_stone = initial_stone\n",
    "    while curr_stone is not None:\n",
    "        next_stone = curr_stone.right\n",
    "        curr_stone.blink()\n",
    "        curr_stone = next_stone\n",
    "    return initial_stone\n",
    "\n",
    "\n",
    "def print_stone_row(initial_stone: Stone):\n",
    "    curr_stone = initial_stone\n",
    "    while curr_stone is not None:\n",
    "        print(curr_stone, end=\" \")\n",
    "        curr_stone = curr_stone.right\n",
    "\n",
    "\n",
    "def count_stone_row(initial_stone: Stone):\n",
    "    curr_stone = initial_stone\n",
    "    result = 0\n",
    "    while curr_stone is not None:\n",
    "        result += 1\n",
    "        curr_stone = curr_stone.right\n",
    "    return result"
   ]
  },
  {
   "cell_type": "code",
   "execution_count": null,
   "metadata": {},
   "outputs": [],
   "source": [
    "def part_a(data: str) -> str:\n",
    "    stone_values = [int(x) for x in data.split(\" \")]\n",
    "    initial_stone = stone_values_to_stone_list(stone_values)\n",
    "    for _ in range(25):\n",
    "        blink_stone_row(initial_stone)\n",
    "    result = count_stone_row(initial_stone)\n",
    "    return str(result)"
   ]
  },
  {
   "cell_type": "code",
   "execution_count": null,
   "metadata": {},
   "outputs": [],
   "source": [
    "for example_index, example in enumerate(todays_examples):\n",
    "    if example.answer_a != \"\":\n",
    "        print(\n",
    "            f\"Example {example_index} part a: {part_a(example.input_data)} (expected {example.answer_a})\"\n",
    "        )\n",
    "        assert part_a(str(example.input_data)) == example.answer_a\n",
    "submit(part_a(data), part=\"a\", year=puzzle_year, day=puzzle_day)"
   ]
  },
  {
   "cell_type": "markdown",
   "metadata": {},
   "source": [
    "# Part B"
   ]
  },
  {
   "cell_type": "code",
   "execution_count": null,
   "metadata": {},
   "outputs": [],
   "source": [
    "from functools import lru_cache"
   ]
  },
  {
   "cell_type": "code",
   "execution_count": null,
   "metadata": {},
   "outputs": [],
   "source": [
    "@lru_cache(maxsize=None)\n",
    "def num_stones_from_the_stone(stone: int, num_iterations: int):\n",
    "    result = 1\n",
    "    for curr_iter in range(num_iterations):\n",
    "        # rint(f'{curr_iter=}, {stone=}')\n",
    "        if stone == 0:\n",
    "            stone = 1\n",
    "        elif len(str(stone)) % 2 == 0:\n",
    "            val_str = str(stone)\n",
    "            # print(val_str,val_str[:len(val_str)//2], len(val_str))\n",
    "            left_val = int(val_str[: len(val_str) // 2])\n",
    "            right_val = int(val_str[len(val_str) // 2 :])\n",
    "            stone = left_val\n",
    "            result += num_stones_from_the_stone(\n",
    "                right_val, num_iterations - curr_iter - 1\n",
    "            )\n",
    "        else:\n",
    "            stone *= 2024\n",
    "    return result"
   ]
  },
  {
   "cell_type": "code",
   "execution_count": null,
   "metadata": {},
   "outputs": [],
   "source": [
    "def even_more_efficient_stone_blinking(stones: list, num_iterations: int):\n",
    "    result = 0\n",
    "    for stone in stones:\n",
    "        result += num_stones_from_the_stone(stone, num_iterations)\n",
    "    return result"
   ]
  },
  {
   "cell_type": "code",
   "execution_count": null,
   "metadata": {},
   "outputs": [],
   "source": [
    "def part_b(data: str) -> str:\n",
    "    stone_values = [int(x) for x in data.split(\" \")]\n",
    "    result = even_more_efficient_stone_blinking(stone_values, 75)\n",
    "    return str(result)"
   ]
  },
  {
   "cell_type": "code",
   "execution_count": null,
   "metadata": {},
   "outputs": [],
   "source": [
    "part_b(data)"
   ]
  }
 ],
 "metadata": {
  "kernelspec": {
   "display_name": ".env",
   "language": "python",
   "name": "python3"
  },
  "language_info": {
   "codemirror_mode": {
    "name": "ipython",
    "version": 3
   },
   "file_extension": ".py",
   "mimetype": "text/x-python",
   "name": "python",
   "nbconvert_exporter": "python",
   "pygments_lexer": "ipython3",
   "version": "3.12.6"
  }
 },
 "nbformat": 4,
 "nbformat_minor": 2
}
