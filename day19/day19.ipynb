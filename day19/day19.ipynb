{
 "cells": [
  {
   "cell_type": "code",
   "execution_count": 1,
   "metadata": {},
   "outputs": [],
   "source": [
    "from aocd import data, models, submit\n",
    "from io import StringIO\n",
    "from pathlib import Path\n",
    "import re\n",
    "\n",
    "import pandas as pd\n",
    "from collections import defaultdict, namedtuple"
   ]
  },
  {
   "cell_type": "markdown",
   "metadata": {},
   "source": [
    "# Load data and examples"
   ]
  },
  {
   "cell_type": "code",
   "execution_count": 2,
   "metadata": {},
   "outputs": [],
   "source": [
    "puzzle_year = 2024\n",
    "puzzle_day = int(re.match(r\"day(\\d+)\", Path.cwd().name).group(1))"
   ]
  },
  {
   "cell_type": "code",
   "execution_count": 3,
   "metadata": {},
   "outputs": [],
   "source": [
    "todays_puzzle = models.Puzzle(year=puzzle_year, day=puzzle_day)\n",
    "todays_examples = todays_puzzle.examples\n",
    "data = todays_puzzle.input_data"
   ]
  },
  {
   "cell_type": "code",
   "execution_count": 4,
   "metadata": {},
   "outputs": [],
   "source": [
    "def is_full_interval(matches_sorted_on_first_match: defaultdict, interval: tuple):\n",
    "    min_value, max_value = interval\n",
    "    sorted_keys = sorted(matches_sorted_on_first_match.keys())\n",
    "    if min_value in sorted_keys:\n",
    "        for match_span in matches_sorted_on_first_match[min_value]:\n",
    "            if match_span[1] == max_value:\n",
    "                return True\n",
    "            if is_full_interval(\n",
    "                matches_sorted_on_first_match, (match_span[1], max_value)\n",
    "            ):\n",
    "                return True\n",
    "    return False"
   ]
  },
  {
   "cell_type": "code",
   "execution_count": 5,
   "metadata": {},
   "outputs": [],
   "source": [
    "def is_patternable(towels: list, pattern: str) -> bool:\n",
    "    matches_sorted_on_first_match = defaultdict(list)\n",
    "    for towel in towels:\n",
    "        for match in re.finditer(\n",
    "            towel, pattern\n",
    "        ):  # this is non-overalapping match. It works in part a, but does not work in part b\n",
    "            i, j = match.span()\n",
    "            matches_sorted_on_first_match[i].append((i, j))\n",
    "    len(matches_sorted_on_first_match)\n",
    "    return is_full_interval(matches_sorted_on_first_match, (0, len(pattern)))"
   ]
  },
  {
   "cell_type": "markdown",
   "metadata": {},
   "source": [
    "# Part A"
   ]
  },
  {
   "cell_type": "code",
   "execution_count": 6,
   "metadata": {},
   "outputs": [],
   "source": [
    "def part_a(data: str) -> str:\n",
    "    towels = data.splitlines()[0].split(\", \")\n",
    "    patterns = data.splitlines()[2:]\n",
    "    result = 0\n",
    "    for pattern in patterns:\n",
    "        if is_patternable(towels, pattern):\n",
    "            result += 1\n",
    "    return str(result)"
   ]
  },
  {
   "cell_type": "code",
   "execution_count": null,
   "metadata": {},
   "outputs": [],
   "source": [
    "for example_index, example in enumerate(todays_examples):\n",
    "    if example.answer_a != \"\":\n",
    "        print(\n",
    "            f\"Example {example_index} part a: {part_a(example.input_data)} (expected {example.answer_a})\"\n",
    "        )\n",
    "        assert part_a(str(example.input_data)) == example.answer_a\n",
    "submit(part_a(data), part=\"a\", year=puzzle_year, day=puzzle_day)"
   ]
  },
  {
   "cell_type": "markdown",
   "metadata": {},
   "source": [
    "# Part B"
   ]
  },
  {
   "cell_type": "code",
   "execution_count": 9,
   "metadata": {},
   "outputs": [],
   "source": [
    "from tqdm import tqdm\n",
    "from functools import lru_cache"
   ]
  },
  {
   "cell_type": "code",
   "execution_count": 10,
   "metadata": {},
   "outputs": [],
   "source": [
    "TowelMatch = namedtuple(\"Match\", [\"start\", \"end\", \"pattern\"])"
   ]
  },
  {
   "cell_type": "code",
   "execution_count": 107,
   "metadata": {},
   "outputs": [],
   "source": [
    "def matching_patterns(\n",
    "    matches_sorted_on_first_match: defaultdict, interval: tuple\n",
    ") -> int:\n",
    "    sorted_keys = sorted(matches_sorted_on_first_match.keys())\n",
    "\n",
    "    @lru_cache\n",
    "    def matching_patterns_inner(interval: tuple):\n",
    "        min_value, max_value = interval\n",
    "        result = 0\n",
    "        if min_value in sorted_keys:\n",
    "            for i, towel_match in enumerate(matches_sorted_on_first_match[min_value]):\n",
    "                if towel_match.end == max_value:\n",
    "                    result += 1\n",
    "                else:\n",
    "                    count_sub_patterns = matching_patterns_inner(\n",
    "                        (towel_match.end, max_value)\n",
    "                    )\n",
    "                    result += count_sub_patterns\n",
    "        return result\n",
    "\n",
    "    result = matching_patterns_inner(interval)\n",
    "    return result"
   ]
  },
  {
   "cell_type": "code",
   "execution_count": 108,
   "metadata": {},
   "outputs": [],
   "source": [
    "def count_different_matching_combinations(towels: list, pattern: str) -> bool:\n",
    "    matches_sorted_on_first_match = defaultdict(list)\n",
    "    for towel in towels:\n",
    "        for match in re.finditer(f\"(?=({towel}))\", pattern):\n",
    "            i, j = match.span(1)\n",
    "            matches_sorted_on_first_match[i].append(TowelMatch(i, j, towel))\n",
    "    count_patterns = matching_patterns(matches_sorted_on_first_match, (0, len(pattern)))\n",
    "    return count_patterns"
   ]
  },
  {
   "cell_type": "code",
   "execution_count": 109,
   "metadata": {},
   "outputs": [],
   "source": [
    "def part_b(data: str) -> str:\n",
    "    towels = data.splitlines()[0].split(\", \")\n",
    "    patterns = data.splitlines()[2:]\n",
    "    result = 0\n",
    "    count_designs = 0\n",
    "    for pattern in tqdm(patterns):\n",
    "        old_result = result\n",
    "        result += count_different_matching_combinations(towels, pattern)\n",
    "        count_designs += 1\n",
    "    return str(result)"
   ]
  },
  {
   "cell_type": "code",
   "execution_count": 111,
   "metadata": {},
   "outputs": [],
   "source": [
    "todays_examples[0] = todays_examples[0]._replace(answer_b=\"16\")"
   ]
  },
  {
   "cell_type": "code",
   "execution_count": null,
   "metadata": {},
   "outputs": [],
   "source": [
    "for example_index, example in enumerate(todays_examples):\n",
    "    if example.answer_b != \"\":\n",
    "        print(\n",
    "            f\"Example {example_index} part b: {part_b(example.input_data)} (expected {example.answer_b})\"\n",
    "        )\n",
    "        assert part_b(str(example.input_data)) == example.answer_b\n",
    "submit(part_b(data), part=\"b\", year=puzzle_year, day=puzzle_day)"
   ]
  }
 ],
 "metadata": {
  "kernelspec": {
   "display_name": ".env",
   "language": "python",
   "name": "python3"
  },
  "language_info": {
   "codemirror_mode": {
    "name": "ipython",
    "version": 3
   },
   "file_extension": ".py",
   "mimetype": "text/x-python",
   "name": "python",
   "nbconvert_exporter": "python",
   "pygments_lexer": "ipython3",
   "version": "3.12.6"
  }
 },
 "nbformat": 4,
 "nbformat_minor": 2
}
