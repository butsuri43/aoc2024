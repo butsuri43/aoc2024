{
 "cells": [
  {
   "cell_type": "code",
   "execution_count": null,
   "metadata": {},
   "outputs": [],
   "source": [
    "from aocd import data, models, submit\n",
    "from pathlib import Path\n",
    "import re\n",
    "\n",
    "import numpy as np\n",
    "from itertools import product"
   ]
  },
  {
   "cell_type": "markdown",
   "metadata": {},
   "source": [
    "# Load data and examples"
   ]
  },
  {
   "cell_type": "code",
   "execution_count": null,
   "metadata": {},
   "outputs": [],
   "source": [
    "puzzle_year = 2024\n",
    "puzzle_day = int(re.match(r\"day(\\d+)\", Path.cwd().name).group(1))"
   ]
  },
  {
   "cell_type": "code",
   "execution_count": null,
   "metadata": {},
   "outputs": [],
   "source": [
    "todays_puzzle = models.Puzzle(year=puzzle_year, day=puzzle_day)\n",
    "todays_examples = todays_puzzle.examples"
   ]
  },
  {
   "cell_type": "code",
   "execution_count": null,
   "metadata": {},
   "outputs": [],
   "source": [
    "todays_examples[0] = todays_examples[0]._replace(\n",
    "    input_data=\"\"\"RRRRIICCFF\n",
    "RRRRIICCCF\n",
    "VVRRRCCFFF\n",
    "VVRCCCJFFF\n",
    "VVVVCJJCFE\n",
    "VVIVCCJJEE\n",
    "VVIIICJJEE\n",
    "MIIIIIJJEE\n",
    "MIIISIJEEE\n",
    "MMMISSJEEE\n",
    "\"\"\"\n",
    ")"
   ]
  },
  {
   "cell_type": "markdown",
   "metadata": {},
   "source": [
    "# Part A"
   ]
  },
  {
   "cell_type": "code",
   "execution_count": null,
   "metadata": {},
   "outputs": [],
   "source": [
    "def single_plant_plot_cost(char_map, visited, i, j):\n",
    "    n = char_map.shape[0]\n",
    "\n",
    "    def single_plant_plot_area_perimeter(x, y):\n",
    "        if visited[(x, y)]:\n",
    "            return (0, 0)\n",
    "        visited[(x, y)] = True\n",
    "        point_char = char_map[(x, y)]\n",
    "        area = 1\n",
    "        perimeter = 0\n",
    "        for d_x, d_y in [(-1, 0), (1, 0), (0, -1), (0, 1)]:\n",
    "            next_x, next_y = x + d_x, y + d_y\n",
    "            sub_area = 0\n",
    "            sub_perimeter = 1\n",
    "            if 0 <= next_x < n and 0 <= next_y < n:\n",
    "                if char_map[(next_x, next_y)] == point_char:\n",
    "                    sub_area, sub_perimeter = single_plant_plot_area_perimeter(\n",
    "                        next_x, next_y\n",
    "                    )\n",
    "            area += sub_area\n",
    "            perimeter += sub_perimeter\n",
    "        return area, perimeter\n",
    "\n",
    "    area, perimeter = single_plant_plot_area_perimeter(i, j)\n",
    "    return area * perimeter"
   ]
  },
  {
   "cell_type": "code",
   "execution_count": null,
   "metadata": {},
   "outputs": [],
   "source": [
    "def part_a(data: str) -> str:\n",
    "    char_map = np.array([[c for c in line] for line in data.split()])\n",
    "    visited = np.zeros_like(char_map)\n",
    "    n = char_map.shape[0]\n",
    "    result = 0\n",
    "    for i in range(n):\n",
    "        for j in range(n):\n",
    "            if not visited[(i, j)]:\n",
    "                result += single_plant_plot_cost(char_map, visited, i, j)\n",
    "    return str(result)"
   ]
  },
  {
   "cell_type": "code",
   "execution_count": null,
   "metadata": {},
   "outputs": [],
   "source": [
    "for example_index, example in enumerate(todays_examples):\n",
    "    if example.answer_a != \"\":\n",
    "        print(\n",
    "            f\"Example {example_index} part a: {part_a(example.input_data)} (expected {example.answer_a})\"\n",
    "        )\n",
    "        assert part_a(str(example.input_data)) == example.answer_a\n",
    "submit(part_a(data), part=\"a\", year=puzzle_year, day=puzzle_day)"
   ]
  },
  {
   "cell_type": "markdown",
   "metadata": {},
   "source": [
    "# Part B"
   ]
  },
  {
   "cell_type": "code",
   "execution_count": null,
   "metadata": {},
   "outputs": [],
   "source": [
    "todays_examples[0] = todays_examples[0]._replace(answer_b=\"1206\")"
   ]
  },
  {
   "cell_type": "code",
   "execution_count": null,
   "metadata": {},
   "outputs": [],
   "source": [
    "def safe_get(array: np.ndarray, index, default):\n",
    "    n = array.shape[0]\n",
    "    if 0 <= index[0] < n and 0 <= index[1] < n:\n",
    "        return array[tuple(index)]\n",
    "    else:\n",
    "        return default\n",
    "\n",
    "\n",
    "def single_plant_plot_cost_part_b(char_map, visited, i, j):\n",
    "    n = char_map.shape[0]\n",
    "\n",
    "    def is_edge_in_direction(curr_position: tuple, direction: tuple):\n",
    "        first_neighbour = safe_get(\n",
    "            char_map, (curr_position[0] + direction[0], curr_position[1]), \".\"\n",
    "        )\n",
    "        second_neighbour = safe_get(\n",
    "            char_map, (curr_position[0], curr_position[1] + direction[1]), \".\"\n",
    "        )\n",
    "        diagonal_meighbour = safe_get(\n",
    "            char_map,\n",
    "            (curr_position[0] + direction[0], curr_position[1] + direction[1]),\n",
    "            \".\",\n",
    "        )\n",
    "        curr_char = char_map[curr_position]\n",
    "        if (\n",
    "            curr_char == first_neighbour\n",
    "            and curr_char == second_neighbour\n",
    "            and curr_char != diagonal_meighbour\n",
    "        ):\n",
    "            return True\n",
    "        if curr_char != first_neighbour and curr_char != second_neighbour:\n",
    "            return True\n",
    "        return False\n",
    "\n",
    "    def single_plant_plot_area_edges(x, y):\n",
    "        if visited[(x, y)]:\n",
    "            return (0, 0)\n",
    "        visited[(x, y)] = True\n",
    "        point_char = char_map[(x, y)]\n",
    "        area = 1\n",
    "        edges = sum(\n",
    "            [\n",
    "                is_edge_in_direction((x, y), direction)\n",
    "                for direction in product([-1, 1], repeat=2)\n",
    "            ]\n",
    "        )\n",
    "\n",
    "        for d_x, d_y in [(-1, 0), (1, 0), (0, -1), (0, 1)]:\n",
    "            next_x, next_y = x + d_x, y + d_y\n",
    "            sub_area = 0\n",
    "            sub_edges = 0\n",
    "            if 0 <= next_x < n and 0 <= next_y < n:\n",
    "                if char_map[(next_x, next_y)] == point_char:\n",
    "                    sub_area, sub_edges = single_plant_plot_area_edges(next_x, next_y)\n",
    "            area += sub_area\n",
    "            edges += sub_edges\n",
    "        return area, edges\n",
    "\n",
    "    area, edges = single_plant_plot_area_edges(i, j)\n",
    "    return area * edges"
   ]
  },
  {
   "cell_type": "code",
   "execution_count": null,
   "metadata": {},
   "outputs": [],
   "source": [
    "def part_b(data: str) -> str:\n",
    "    char_map = np.array([[c for c in line] for line in data.split()])\n",
    "    visited = np.zeros_like(char_map)\n",
    "    n = char_map.shape[0]\n",
    "    result = 0\n",
    "    for i in range(n):\n",
    "        for j in range(n):\n",
    "            if not visited[(i, j)]:\n",
    "                result += single_plant_plot_cost_part_b(char_map, visited, i, j)\n",
    "    return str(result)"
   ]
  },
  {
   "cell_type": "code",
   "execution_count": null,
   "metadata": {},
   "outputs": [],
   "source": [
    "for example_index, example in enumerate(todays_examples):\n",
    "    if example.answer_b != \"\":\n",
    "        print(\n",
    "            f\"Example {example_index} part b: {part_b(example.input_data)} (expected {example.answer_b})\"\n",
    "        )\n",
    "        assert part_b(str(example.input_data)) == example.answer_b\n",
    "submit(part_b(data), part=\"b\", year=puzzle_year, day=puzzle_day)"
   ]
  }
 ],
 "metadata": {
  "kernelspec": {
   "display_name": ".env",
   "language": "python",
   "name": "python3"
  },
  "language_info": {
   "codemirror_mode": {
    "name": "ipython",
    "version": 3
   },
   "file_extension": ".py",
   "mimetype": "text/x-python",
   "name": "python",
   "nbconvert_exporter": "python",
   "pygments_lexer": "ipython3",
   "version": "3.12.6"
  }
 },
 "nbformat": 4,
 "nbformat_minor": 2
}
