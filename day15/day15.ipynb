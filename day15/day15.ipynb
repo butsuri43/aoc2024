{
 "cells": [
  {
   "cell_type": "code",
   "execution_count": null,
   "metadata": {},
   "outputs": [],
   "source": [
    "from __future__ import annotations\n",
    "from aocd import data, models, submit\n",
    "from io import StringIO\n",
    "from pathlib import Path\n",
    "import re\n",
    "\n",
    "import numpy as np"
   ]
  },
  {
   "cell_type": "markdown",
   "metadata": {},
   "source": [
    "# Load data and examples"
   ]
  },
  {
   "cell_type": "code",
   "execution_count": null,
   "metadata": {},
   "outputs": [],
   "source": [
    "puzzle_year = 2024\n",
    "puzzle_day = int(re.match(r\"day(\\d+)\", Path.cwd().name).group(1))"
   ]
  },
  {
   "cell_type": "code",
   "execution_count": null,
   "metadata": {},
   "outputs": [],
   "source": [
    "todays_puzzle = models.Puzzle(year=puzzle_year, day=puzzle_day)\n",
    "todays_examples = todays_puzzle.examples"
   ]
  },
  {
   "cell_type": "markdown",
   "metadata": {},
   "source": [
    "# Part A"
   ]
  },
  {
   "cell_type": "code",
   "execution_count": null,
   "metadata": {},
   "outputs": [],
   "source": [
    "todays_examples[0] = todays_examples[0]._replace(answer_a=\"10092\")"
   ]
  },
  {
   "cell_type": "code",
   "execution_count": null,
   "metadata": {},
   "outputs": [],
   "source": [
    "def move_box(box_bool_map: np.ndarray, i, j, direction: str, box_to_place=False):\n",
    "    nx, ny = box_bool_map.shape\n",
    "    if i < 0 or i >= nx or j < 0 or j >= ny or box_bool_map[i][j] == 2:\n",
    "        return False\n",
    "\n",
    "    # If this space is not occupy it, place either a box,\n",
    "    # or the robot (bool_map stays false)\n",
    "    if box_bool_map[i][j] == False:\n",
    "        box_bool_map[i][j] = box_to_place\n",
    "        return True\n",
    "\n",
    "    # If this space is occupied, try to move the box in the direction\n",
    "    place_to_move = False\n",
    "    if direction == \"<\" and j > 0:\n",
    "        place_to_move = move_box(box_bool_map, i, j - 1, direction, True)\n",
    "    if direction == \">\" and j < ny - 1:\n",
    "        place_to_move = move_box(box_bool_map, i, j + 1, direction, True)\n",
    "    if direction == \"^\" and i > 0:\n",
    "        place_to_move = move_box(box_bool_map, i - 1, j, direction, True)\n",
    "    if direction == \"v\" and i < nx - 1:\n",
    "        place_to_move = move_box(box_bool_map, i + 1, j, direction, True)\n",
    "\n",
    "    return place_to_move"
   ]
  },
  {
   "cell_type": "code",
   "execution_count": null,
   "metadata": {},
   "outputs": [],
   "source": [
    "def part_a(data: str) -> str:\n",
    "    map_data, moves_data = data.split(\"\\n\\n\")\n",
    "    moves_data = moves_data.replace(\"\\n\", \"\")\n",
    "\n",
    "    char_map = np.array([[char for char in line] for line in map_data.splitlines()])\n",
    "    robot_position = np.argwhere(char_map == \"@\")[0]\n",
    "    box_bool_map = ((char_map == \"O\") | (char_map == \"#\")).astype(int)\n",
    "    box_bool_map[char_map == \"#\"] = 2\n",
    "\n",
    "    for move in moves_data:\n",
    "        potential_new_position = robot_position.copy()\n",
    "        if move == \"<\":\n",
    "            potential_new_position[1] -= 1\n",
    "        if move == \">\":\n",
    "            potential_new_position[1] += 1\n",
    "        if move == \"^\":\n",
    "            potential_new_position[0] -= 1\n",
    "        if move == \"v\":\n",
    "            potential_new_position[0] += 1\n",
    "\n",
    "        move_allowed = move_box(\n",
    "            box_bool_map, potential_new_position[0], potential_new_position[1], move\n",
    "        )\n",
    "        if move_allowed:\n",
    "            robot_position = potential_new_position\n",
    "            box_bool_map[tuple(robot_position)] = 0\n",
    "\n",
    "    result = 0\n",
    "    for d_top, d_left in np.argwhere(box_bool_map == 1):\n",
    "        result += d_top * 100 + d_left\n",
    "\n",
    "    return str(result)"
   ]
  },
  {
   "cell_type": "code",
   "execution_count": null,
   "metadata": {},
   "outputs": [],
   "source": [
    "for example_index, example in enumerate(todays_examples):\n",
    "    if example.answer_a != \"\":\n",
    "        print(\n",
    "            f\"Example {example_index} part a: {part_a(example.input_data)} (expected {example.answer_a})\"\n",
    "        )\n",
    "        assert part_a(str(example.input_data)) == example.answer_a\n",
    "submit(part_a(data), part=\"a\", year=puzzle_year, day=puzzle_day)"
   ]
  },
  {
   "cell_type": "markdown",
   "metadata": {},
   "source": [
    "# Part B"
   ]
  },
  {
   "cell_type": "code",
   "execution_count": null,
   "metadata": {},
   "outputs": [],
   "source": [
    "todays_examples[0] = todays_examples[0]._replace(answer_b=\"9021\")"
   ]
  },
  {
   "cell_type": "code",
   "execution_count": null,
   "metadata": {},
   "outputs": [],
   "source": [
    "np.set_printoptions(threshold=10_000)"
   ]
  },
  {
   "cell_type": "code",
   "execution_count": null,
   "metadata": {},
   "outputs": [],
   "source": [
    "def double_map_data(map_data: str) -> str:\n",
    "    map_data = re.sub(\"#\", \"##\", map_data)\n",
    "    map_data = re.sub(\"O\", \"[]\", map_data)\n",
    "    map_data = re.sub(r\"\\.\", \"..\", map_data)\n",
    "    map_data = re.sub(\"@\", \"@.\", map_data)\n",
    "    return map_data"
   ]
  },
  {
   "cell_type": "code",
   "execution_count": null,
   "metadata": {},
   "outputs": [],
   "source": [
    "def is_move_possible(box_map: np.ndarray, i, j, direction: str):\n",
    "    nx, ny = box_map.shape\n",
    "    if i < 0 or i >= nx or j < 0 or j >= ny or box_map[i][j] == \"#\":\n",
    "        return False\n",
    "\n",
    "    # If this space is not occupy it we can move\n",
    "    if box_map[i][j] == \".\":\n",
    "        return True\n",
    "\n",
    "    # If this space is occupied, try to move the boxes in the given direction\n",
    "    rearrangment_possible = False\n",
    "    if direction == \"<\" and j > 0:\n",
    "        rearrangment_possible = is_move_possible(box_map, i, j - 1, direction)\n",
    "    if direction == \">\" and j < ny - 1:\n",
    "        rearrangment_possible = is_move_possible(box_map, i, j + 1, direction)\n",
    "    if direction == \"^\" and i > 0:\n",
    "        rearrangment_possible = is_move_possible(box_map, i - 1, j, direction)\n",
    "        if box_map[i][j] == \"[\":\n",
    "            rearrangment_possible &= is_move_possible(box_map, i - 1, j + 1, direction)\n",
    "        if box_map[i][j] == \"]\":\n",
    "            rearrangment_possible &= is_move_possible(box_map, i - 1, j - 1, direction)\n",
    "    if direction == \"v\" and i < nx - 1:\n",
    "        rearrangment_possible = is_move_possible(box_map, i + 1, j, direction)\n",
    "        if box_map[i][j] == \"[\":\n",
    "            rearrangment_possible &= is_move_possible(box_map, i + 1, j + 1, direction)\n",
    "        if box_map[i][j] == \"]\":\n",
    "            rearrangment_possible &= is_move_possible(box_map, i + 1, j - 1, direction)\n",
    "\n",
    "    return rearrangment_possible"
   ]
  },
  {
   "cell_type": "code",
   "execution_count": null,
   "metadata": {},
   "outputs": [],
   "source": [
    "def move_to_position(\n",
    "    box_map: np.ndarray, i, j, direction: str, field_to_place: str\n",
    ") -> None:\n",
    "    nx, ny = box_map.shape\n",
    "    current_field_value = box_map[i][j]\n",
    "    box_map[i][j] = field_to_place\n",
    "\n",
    "    # if field empty, we just occupied it. The function is done\n",
    "    if current_field_value == \".\":\n",
    "        return\n",
    "\n",
    "    if direction == \"<\" and j > 0:\n",
    "        move_to_position(box_map, i, j - 1, direction, current_field_value)\n",
    "    if direction == \">\" and j < ny - 1:\n",
    "        move_to_position(box_map, i, j + 1, direction, current_field_value)\n",
    "    if direction == \"^\" and i > 0:\n",
    "        move_to_position(box_map, i - 1, j, direction, current_field_value)\n",
    "        if current_field_value == \"[\":\n",
    "            move_to_position(box_map, i - 1, j + 1, direction, \"]\")\n",
    "            box_map[i][j + 1] = \".\"\n",
    "        if current_field_value == \"]\":\n",
    "            move_to_position(box_map, i - 1, j - 1, direction, \"[\")\n",
    "            box_map[i][j - 1] = \".\"\n",
    "    if direction == \"v\" and i < nx - 1:\n",
    "        move_to_position(box_map, i + 1, j, direction, current_field_value)\n",
    "        if current_field_value == \"[\":\n",
    "            move_to_position(box_map, i + 1, j + 1, direction, \"]\")\n",
    "            box_map[i][j + 1] = \".\"\n",
    "        if current_field_value == \"]\":\n",
    "            move_to_position(box_map, i + 1, j - 1, direction, \"[\")\n",
    "            box_map[i][j - 1] = \".\""
   ]
  },
  {
   "cell_type": "code",
   "execution_count": null,
   "metadata": {},
   "outputs": [],
   "source": [
    "def check_and_execute_move(\n",
    "    char_map: np.ndarray, robot_position: np.ndarray, move: str\n",
    ") -> None:\n",
    "    potential_new_position = robot_position.copy()\n",
    "    if move == \"<\":\n",
    "        potential_new_position[1] -= 1\n",
    "    if move == \">\":\n",
    "        potential_new_position[1] += 1\n",
    "    if move == \"^\":\n",
    "        potential_new_position[0] -= 1\n",
    "    if move == \"v\":\n",
    "        potential_new_position[0] += 1\n",
    "\n",
    "    if is_move_possible(\n",
    "        char_map, potential_new_position[0], potential_new_position[1], move\n",
    "    ):\n",
    "        move_to_position(\n",
    "            char_map, potential_new_position[0], potential_new_position[1], move, \"@\"\n",
    "        )\n",
    "        char_map[tuple(robot_position)] = \".\"\n",
    "        robot_position[:] = potential_new_position"
   ]
  },
  {
   "cell_type": "code",
   "execution_count": null,
   "metadata": {},
   "outputs": [],
   "source": [
    "def part_b(data: str) -> str:\n",
    "    map_data, moves_data = data.split(\"\\n\\n\")\n",
    "    moves_data = moves_data.replace(\"\\n\", \"\")\n",
    "\n",
    "    map_data = double_map_data(map_data)\n",
    "\n",
    "    char_map = np.array([[char for char in line] for line in map_data.splitlines()])\n",
    "    robot_position = np.argwhere(char_map == \"@\")[0]\n",
    "    for move in moves_data:\n",
    "        check_and_execute_move(char_map, robot_position, move)\n",
    "\n",
    "    result = 0\n",
    "    for d_top, d_left in np.argwhere((char_map == \"[\") | (char_map == \"O\")):\n",
    "        result += d_top * 100 + d_left\n",
    "\n",
    "    return str(result)"
   ]
  },
  {
   "cell_type": "code",
   "execution_count": null,
   "metadata": {},
   "outputs": [],
   "source": [
    "for example_index, example in enumerate(todays_examples):\n",
    "    if example.answer_b != \"\":\n",
    "        print(\n",
    "            f\"Example {example_index} part b: {part_b(example.input_data)} (expected {example.answer_b})\"\n",
    "        )\n",
    "        assert part_b(str(example.input_data)) == example.answer_b\n",
    "submit(part_b(data), part=\"b\", year=puzzle_year, day=puzzle_day)"
   ]
  }
 ],
 "metadata": {
  "kernelspec": {
   "display_name": ".env",
   "language": "python",
   "name": "python3"
  },
  "language_info": {
   "codemirror_mode": {
    "name": "ipython",
    "version": 3
   },
   "file_extension": ".py",
   "mimetype": "text/x-python",
   "name": "python",
   "nbconvert_exporter": "python",
   "pygments_lexer": "ipython3",
   "version": "3.12.6"
  }
 },
 "nbformat": 4,
 "nbformat_minor": 2
}
