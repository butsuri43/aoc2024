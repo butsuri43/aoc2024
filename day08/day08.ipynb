{
 "cells": [
  {
   "cell_type": "code",
   "execution_count": null,
   "metadata": {},
   "outputs": [],
   "source": [
    "from aocd import data, models, submit\n",
    "from io import StringIO\n",
    "from pathlib import Path\n",
    "import re\n",
    "\n",
    "import pandas as pd\n",
    "import numpy as np\n",
    "from itertools import product"
   ]
  },
  {
   "cell_type": "markdown",
   "metadata": {},
   "source": [
    "# Load data and examples"
   ]
  },
  {
   "cell_type": "code",
   "execution_count": null,
   "metadata": {},
   "outputs": [],
   "source": [
    "puzzle_year = 2024\n",
    "puzzle_day = int(re.match(r\"day(\\d+)\", Path.cwd().name).group(1))"
   ]
  },
  {
   "cell_type": "code",
   "execution_count": null,
   "metadata": {},
   "outputs": [],
   "source": [
    "todays_puzzle = models.Puzzle(year=puzzle_year, day=puzzle_day)\n",
    "todays_examples = todays_puzzle.examples"
   ]
  },
  {
   "cell_type": "markdown",
   "metadata": {},
   "source": [
    "# Part A"
   ]
  },
  {
   "cell_type": "code",
   "execution_count": null,
   "metadata": {},
   "outputs": [],
   "source": [
    "grid_data = np.array(\n",
    "    [[c for c in line] for line in todays_examples[0].input_data.split()]\n",
    ")\n",
    "unique_frequencies = [str(f) for f in np.unique(grid_data) if f != \".\"]\n",
    "is_antifrequency_node = np.zeros_like(grid_data, dtype=bool)\n",
    "n = grid_data.shape[0]\n",
    "for freq in unique_frequencies:\n",
    "    freq_locations = np.argwhere(grid_data == freq)\n",
    "    for freq_loc1, freq_loc2 in product(freq_locations, freq_locations):\n",
    "        if np.any(freq_loc1 != freq_loc2):\n",
    "            direction = freq_loc1 - freq_loc2\n",
    "\n",
    "            loc = freq_loc1 + direction\n",
    "            if 0 <= loc[0] < n and 0 <= loc[1] < n:\n",
    "                is_antifrequency_node[tuple(loc)] = True\n",
    "                loc += direction\n",
    "\n",
    "            loc = freq_loc2 - direction\n",
    "            if 0 <= loc[0] < n and 0 <= loc[1] < n:\n",
    "                is_antifrequency_node[tuple(loc)] = True\n",
    "                loc -= direction"
   ]
  },
  {
   "cell_type": "code",
   "execution_count": null,
   "metadata": {},
   "outputs": [],
   "source": [
    "def part_a(data: str) -> str:\n",
    "    grid_data = np.array([[c for c in line] for line in data.split()])\n",
    "    unique_frequencies = [str(f) for f in np.unique(grid_data) if f != \".\"]\n",
    "    is_antifrequency_node = np.zeros_like(grid_data, dtype=bool)\n",
    "    n = grid_data.shape[0]\n",
    "    for freq in unique_frequencies:\n",
    "        freq_locations = np.argwhere(grid_data == freq)\n",
    "        for freq_loc1, freq_loc2 in product(freq_locations, freq_locations):\n",
    "            if np.any(freq_loc1 != freq_loc2):\n",
    "                direction = freq_loc1 - freq_loc2\n",
    "\n",
    "                loc = freq_loc1 + direction\n",
    "                if 0 <= loc[0] < n and 0 <= loc[1] < n:\n",
    "                    is_antifrequency_node[tuple(loc)] = True\n",
    "                    loc += direction\n",
    "\n",
    "                loc = freq_loc2 - direction\n",
    "                if 0 <= loc[0] < n and 0 <= loc[1] < n:\n",
    "                    is_antifrequency_node[tuple(loc)] = True\n",
    "                    loc -= direction\n",
    "    result = is_antifrequency_node.sum()\n",
    "    return str(result)"
   ]
  },
  {
   "cell_type": "code",
   "execution_count": null,
   "metadata": {},
   "outputs": [],
   "source": [
    "for example_index, example in enumerate(todays_examples):\n",
    "    if example.answer_a != \"\":\n",
    "        print(\n",
    "            f\"Example {example_index} part a: {part_a(example.input_data)} (expected {example.answer_a})\"\n",
    "        )\n",
    "        assert part_a(str(example.input_data)) == example.answer_a\n",
    "submit(part_a(data), part=\"a\", year=puzzle_year, day=puzzle_day)"
   ]
  },
  {
   "cell_type": "markdown",
   "metadata": {},
   "source": [
    "# Part B"
   ]
  },
  {
   "cell_type": "code",
   "execution_count": null,
   "metadata": {},
   "outputs": [],
   "source": [
    "def part_b(data: str) -> str:\n",
    "    grid_data = np.array([[c for c in line] for line in data.split()])\n",
    "    unique_frequencies = [str(f) for f in np.unique(grid_data) if f != \".\"]\n",
    "    is_antifrequency_node = np.zeros_like(grid_data, dtype=bool)\n",
    "    n = grid_data.shape[0]\n",
    "    for freq in unique_frequencies:\n",
    "        freq_locations = np.argwhere(grid_data == freq)\n",
    "        for freq_loc1, freq_loc2 in product(freq_locations, freq_locations):\n",
    "            if np.any(freq_loc1 != freq_loc2):\n",
    "                direction = freq_loc1 - freq_loc2\n",
    "\n",
    "                loc = freq_loc1.copy()\n",
    "                while 0 <= loc[0] < n and 0 <= loc[1] < n:\n",
    "                    is_antifrequency_node[tuple(loc)] = True\n",
    "                    loc += direction\n",
    "\n",
    "                loc = freq_loc2.copy()\n",
    "                while 0 <= loc[0] < n and 0 <= loc[1] < n:\n",
    "                    is_antifrequency_node[tuple(loc)] = True\n",
    "                    loc -= direction\n",
    "    result = is_antifrequency_node.sum()\n",
    "    return str(result)"
   ]
  },
  {
   "cell_type": "code",
   "execution_count": null,
   "metadata": {},
   "outputs": [],
   "source": [
    "todays_examples[0] = todays_examples[0]._replace(answer_b=\"34\")"
   ]
  },
  {
   "cell_type": "code",
   "execution_count": null,
   "metadata": {},
   "outputs": [],
   "source": [
    "for example_index, example in enumerate(todays_examples):\n",
    "    if example.answer_b != \"\":\n",
    "        print(\n",
    "            f\"Example {example_index} part b: {part_b(example.input_data)} (expected {example.answer_b})\"\n",
    "        )\n",
    "        assert part_b(str(example.input_data)) == example.answer_b\n",
    "submit(part_b(data), part=\"b\", year=puzzle_year, day=puzzle_day)"
   ]
  }
 ],
 "metadata": {
  "kernelspec": {
   "display_name": ".env",
   "language": "python",
   "name": "python3"
  },
  "language_info": {
   "codemirror_mode": {
    "name": "ipython",
    "version": 3
   },
   "file_extension": ".py",
   "mimetype": "text/x-python",
   "name": "python",
   "nbconvert_exporter": "python",
   "pygments_lexer": "ipython3",
   "version": "3.12.6"
  }
 },
 "nbformat": 4,
 "nbformat_minor": 2
}
