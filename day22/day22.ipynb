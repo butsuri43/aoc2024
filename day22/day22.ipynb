{
 "cells": [
  {
   "cell_type": "code",
   "execution_count": 1,
   "metadata": {},
   "outputs": [],
   "source": [
    "from aocd import data, models, submit\n",
    "from io import StringIO\n",
    "from pathlib import Path\n",
    "import re\n",
    "\n",
    "import pandas as pd"
   ]
  },
  {
   "cell_type": "markdown",
   "metadata": {},
   "source": [
    "# Load data and examples"
   ]
  },
  {
   "cell_type": "code",
   "execution_count": 2,
   "metadata": {},
   "outputs": [],
   "source": [
    "puzzle_year = 2024\n",
    "puzzle_day = int(re.match(r\"day(\\d+)\", Path.cwd().name).group(1))"
   ]
  },
  {
   "cell_type": "code",
   "execution_count": 3,
   "metadata": {},
   "outputs": [],
   "source": [
    "todays_puzzle = models.Puzzle(year=puzzle_year, day=puzzle_day)\n",
    "todays_examples = todays_puzzle.examples\n",
    "data = todays_puzzle.input_data"
   ]
  },
  {
   "cell_type": "code",
   "execution_count": null,
   "metadata": {},
   "outputs": [],
   "source": [
    "todays_examples[0] = todays_examples[0]._replace(\n",
    "    input_data=\"\"\"1\n",
    "10\n",
    "100\n",
    "2024\"\"\"\n",
    ")\n",
    "todays_examples"
   ]
  },
  {
   "cell_type": "markdown",
   "metadata": {},
   "source": [
    "# Part A"
   ]
  },
  {
   "cell_type": "code",
   "execution_count": 5,
   "metadata": {},
   "outputs": [],
   "source": [
    "def mix(value, secret):\n",
    "    return value ^ secret\n",
    "\n",
    "\n",
    "def prune(value):\n",
    "    return value % 16777216\n",
    "\n",
    "\n",
    "def calculate_next_secret(secret):\n",
    "    new_secret = prune(mix(secret * 64, secret))\n",
    "    new_secret = prune(mix(new_secret // 32, new_secret))\n",
    "    new_secret = prune(mix(new_secret * 2048, new_secret))\n",
    "    return new_secret\n",
    "\n",
    "\n",
    "def iterate_secret_n_times(secret, n):\n",
    "    for i in range(n):\n",
    "        secret = calculate_next_secret(secret)\n",
    "    return secret"
   ]
  },
  {
   "cell_type": "code",
   "execution_count": 6,
   "metadata": {},
   "outputs": [],
   "source": [
    "def part_a(data: str) -> str:\n",
    "    secrets = [int(x) for x in data.split(\"\\n\")]\n",
    "    result = 0\n",
    "    for secret in secrets:\n",
    "        result += iterate_secret_n_times(secret, 2000)\n",
    "    return str(result)"
   ]
  },
  {
   "cell_type": "code",
   "execution_count": null,
   "metadata": {},
   "outputs": [],
   "source": [
    "for example_index, example in enumerate(todays_examples):\n",
    "    if example.answer_a != \"\":\n",
    "        print(\n",
    "            f\"Example {example_index} part a: {part_a(example.input_data)} (expected {example.answer_a})\"\n",
    "        )\n",
    "        assert part_a(str(example.input_data)) == example.answer_a\n",
    "submit(part_a(data), part=\"a\", year=puzzle_year, day=puzzle_day)"
   ]
  },
  {
   "cell_type": "markdown",
   "metadata": {},
   "source": [
    "# Part B"
   ]
  },
  {
   "cell_type": "code",
   "execution_count": 271,
   "metadata": {},
   "outputs": [],
   "source": [
    "from itertools import product\n",
    "from tqdm import tqdm\n",
    "import numpy as np"
   ]
  },
  {
   "cell_type": "code",
   "execution_count": 268,
   "metadata": {},
   "outputs": [],
   "source": [
    "def get_buyers_prices(secret):\n",
    "    prices = [secret % 10]\n",
    "    for i in range(2000):\n",
    "        secret = calculate_next_secret(secret)\n",
    "        prices.append(secret % 10)\n",
    "    return prices\n",
    "\n",
    "\n",
    "def get_diff_sequence_strings_and_price(prices) -> dict[str, int]:\n",
    "    buyers_diff = np.diff(prices)\n",
    "\n",
    "    result_dict = {}\n",
    "    for i in range(len(buyers_diff) - 3):\n",
    "        sequence = \",\".join(buyers_diff[i : i + 4].astype(str))\n",
    "        if sequence not in result_dict:\n",
    "            # accept only first appearance of a sequence\n",
    "            result_dict[sequence] = int(prices[i + 4])\n",
    "    return result_dict"
   ]
  },
  {
   "cell_type": "code",
   "execution_count": 273,
   "metadata": {},
   "outputs": [],
   "source": [
    "def part_b(data: str) -> str:\n",
    "    secrets = [int(x) for x in data.split(\"\\n\")]\n",
    "    buyers_diff_sequence_strings_and_prices = []\n",
    "    for secret in tqdm(secrets):\n",
    "        prices = get_buyers_prices(secret)\n",
    "        buyers_diff_sequence_strings_and_prices.append(\n",
    "            get_diff_sequence_strings_and_price(prices)\n",
    "        )\n",
    "    combined_sequences = {}\n",
    "    for x in buyers_diff_sequence_strings_and_prices:\n",
    "        for key in x.keys():\n",
    "            if key not in combined_sequences:\n",
    "                combined_sequences[key] = 0\n",
    "            combined_sequences[key] += x[key]\n",
    "    max_price = 0\n",
    "    for key in combined_sequences.keys():\n",
    "        if combined_sequences[key] > max_price:\n",
    "            max_price = combined_sequences[key]\n",
    "    return str(max_price)"
   ]
  },
  {
   "cell_type": "code",
   "execution_count": null,
   "metadata": {},
   "outputs": [],
   "source": [
    "assert part_b(\"1\\n2\\n3\\n2024\") == \"23\"\n",
    "submit(part_b(data), part=\"b\", year=puzzle_year, day=puzzle_day)"
   ]
  }
 ],
 "metadata": {
  "kernelspec": {
   "display_name": ".env",
   "language": "python",
   "name": "python3"
  },
  "language_info": {
   "codemirror_mode": {
    "name": "ipython",
    "version": 3
   },
   "file_extension": ".py",
   "mimetype": "text/x-python",
   "name": "python",
   "nbconvert_exporter": "python",
   "pygments_lexer": "ipython3",
   "version": "3.12.6"
  }
 },
 "nbformat": 4,
 "nbformat_minor": 2
}
