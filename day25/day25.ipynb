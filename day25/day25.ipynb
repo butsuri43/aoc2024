{
 "cells": [
  {
   "cell_type": "code",
   "execution_count": null,
   "metadata": {},
   "outputs": [],
   "source": [
    "from aocd import data, models, submit\n",
    "from io import StringIO\n",
    "from pathlib import Path\n",
    "import re\n",
    "\n",
    "import numpy as np\n",
    "from itertools import product"
   ]
  },
  {
   "cell_type": "markdown",
   "metadata": {},
   "source": [
    "# Load data and examples"
   ]
  },
  {
   "cell_type": "code",
   "execution_count": 2,
   "metadata": {},
   "outputs": [],
   "source": [
    "puzzle_year = 2024\n",
    "puzzle_day = int(re.match(r\"day(\\d+)\", Path.cwd().name).group(1))"
   ]
  },
  {
   "cell_type": "code",
   "execution_count": 89,
   "metadata": {},
   "outputs": [],
   "source": [
    "todays_puzzle = models.Puzzle(year=puzzle_year, day=puzzle_day)\n",
    "todays_examples = todays_puzzle.examples\n",
    "data = todays_puzzle.input_data"
   ]
  },
  {
   "cell_type": "markdown",
   "metadata": {},
   "source": [
    "# Part A"
   ]
  },
  {
   "cell_type": "code",
   "execution_count": 95,
   "metadata": {},
   "outputs": [],
   "source": [
    "def get_hights_and_types(key_or_lock: str) -> tuple[np.ndarray, str]:\n",
    "    char_grid = np.array([[c for c in line] for line in key_or_lock.split(\"\\n\")])\n",
    "    if \"\".join(char_grid[0]) == \"#\" * len(char_grid[0]):\n",
    "        type = \"lock\"\n",
    "    else:\n",
    "        type = \"key\"\n",
    "    heights = np.array([sum([1 for c in line if c == \"#\"]) - 1 for line in char_grid.T])\n",
    "    return heights, type"
   ]
  },
  {
   "cell_type": "code",
   "execution_count": 96,
   "metadata": {},
   "outputs": [],
   "source": [
    "def part_a(data: str) -> str:\n",
    "    result = 0\n",
    "    keys_and_locks = data.split(\"\\n\\n\")\n",
    "    max_height = len(keys_and_locks[0].split(\"\\n\")) - 2\n",
    "    key_heights = []\n",
    "    lock_heights = []\n",
    "    for key_or_lock in keys_and_locks:\n",
    "        heights, type = get_hights_and_types(key_or_lock)\n",
    "        if type == \"key\":\n",
    "            key_heights.append(heights)\n",
    "        else:\n",
    "            lock_heights.append(heights)\n",
    "    for key_height, lock_height in product(key_heights, lock_heights):\n",
    "        if all(key_height + lock_height <= max_height):\n",
    "            result += 1\n",
    "    return str(result)"
   ]
  },
  {
   "cell_type": "code",
   "execution_count": null,
   "metadata": {},
   "outputs": [],
   "source": [
    "for example_index, example in enumerate(todays_examples):\n",
    "    if example.answer_a != \"\":\n",
    "        print(\n",
    "            f\"Example {example_index} part a: {part_a(example.input_data)} (expected {example.answer_a})\"\n",
    "        )\n",
    "        assert part_a(str(example.input_data)) == example.answer_a\n",
    "submit(part_a(data), part=\"a\", year=puzzle_year, day=puzzle_day)"
   ]
  }
 ],
 "metadata": {
  "kernelspec": {
   "display_name": ".env",
   "language": "python",
   "name": "python3"
  },
  "language_info": {
   "codemirror_mode": {
    "name": "ipython",
    "version": 3
   },
   "file_extension": ".py",
   "mimetype": "text/x-python",
   "name": "python",
   "nbconvert_exporter": "python",
   "pygments_lexer": "ipython3",
   "version": "3.12.6"
  }
 },
 "nbformat": 4,
 "nbformat_minor": 2
}
