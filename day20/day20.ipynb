{
 "cells": [
  {
   "cell_type": "code",
   "execution_count": 13,
   "metadata": {},
   "outputs": [],
   "source": [
    "from aocd import data, models, submit\n",
    "from io import StringIO\n",
    "from pathlib import Path\n",
    "import re\n",
    "\n",
    "import pandas as pd\n",
    "import numpy as np"
   ]
  },
  {
   "cell_type": "markdown",
   "metadata": {},
   "source": [
    "# Load data and examples"
   ]
  },
  {
   "cell_type": "code",
   "execution_count": 14,
   "metadata": {},
   "outputs": [],
   "source": [
    "puzzle_year = 2024\n",
    "puzzle_day = int(re.match(r\"day(\\d+)\", Path.cwd().name).group(1))"
   ]
  },
  {
   "cell_type": "code",
   "execution_count": 15,
   "metadata": {},
   "outputs": [],
   "source": [
    "todays_puzzle = models.Puzzle(year=puzzle_year, day=puzzle_day)\n",
    "todays_examples = todays_puzzle.examples"
   ]
  },
  {
   "cell_type": "markdown",
   "metadata": {},
   "source": [
    "# Part A"
   ]
  },
  {
   "cell_type": "code",
   "execution_count": 16,
   "metadata": {},
   "outputs": [],
   "source": [
    "def compute_distance_map(map: np.ndarray) -> np.ndarray:\n",
    "    distance_map = np.zeros_like(map, dtype=int)\n",
    "    distance_map[map == \"#\"] = -1\n",
    "    distance_map[map == \"S\"] = 0\n",
    "    start_position = np.argwhere(map == \"S\")[0]\n",
    "    end_position = np.argwhere(map == \"E\")[0]\n",
    "    current_position = start_position\n",
    "    while any(current_position != end_position):\n",
    "        for step in [(0, 1), (0, -1), (1, 0), (-1, 0)]:\n",
    "            new_position = current_position + step\n",
    "            if (\n",
    "                distance_map[tuple(new_position)] == 0\n",
    "                and map[tuple(new_position)] != \"S\"\n",
    "            ):\n",
    "                distance_map[tuple(new_position)] = (\n",
    "                    distance_map[tuple(current_position)] + 1\n",
    "                )\n",
    "                current_position = new_position\n",
    "                break\n",
    "    return distance_map"
   ]
  },
  {
   "cell_type": "code",
   "execution_count": 17,
   "metadata": {},
   "outputs": [],
   "source": [
    "def compute_number_of_shortcuts(map: np.ndarray, minimum_gain: int = 100) -> int:\n",
    "    def is_in_track(position: np.ndarray) -> bool:\n",
    "        return (\n",
    "            0 <= position[0] < map.shape[0]\n",
    "            and 0 <= position[1] < map.shape[1]\n",
    "            and map[tuple(position)] != \"#\"\n",
    "        )\n",
    "\n",
    "    distance_map = compute_distance_map(map)\n",
    "    potential_shortcut_start_positions = np.argwhere(\n",
    "        distance_map >= 0\n",
    "    )  # all positions on the path\n",
    "    result = 0\n",
    "    for position in potential_shortcut_start_positions:\n",
    "        position_distance = distance_map[tuple(position)]\n",
    "        for shortcut in [(0, 2), (0, -2), (2, 0), (-2, 0)]:\n",
    "            shortcut_end_position = position + shortcut\n",
    "            if is_in_track(shortcut_end_position):\n",
    "                shortcut_end_distance = distance_map[tuple(shortcut_end_position)]\n",
    "                gained = shortcut_end_distance - position_distance - 2\n",
    "                if gained >= minimum_gain:\n",
    "                    result += 1\n",
    "    return result"
   ]
  },
  {
   "cell_type": "code",
   "execution_count": 18,
   "metadata": {},
   "outputs": [],
   "source": [
    "def part_a(data: str, min_gain: int) -> str:\n",
    "    map = np.array([[x for x in line] for line in data.split(\"\\n\")])\n",
    "    result = compute_number_of_shortcuts(map, min_gain)\n",
    "    return str(result)"
   ]
  },
  {
   "cell_type": "code",
   "execution_count": 19,
   "metadata": {},
   "outputs": [],
   "source": [
    "todays_examples[0] = todays_examples[0]._replace(answer_a=\"44\")"
   ]
  },
  {
   "cell_type": "code",
   "execution_count": null,
   "metadata": {},
   "outputs": [],
   "source": [
    "for example_index, example in enumerate(todays_examples):\n",
    "    if example.answer_a != \"\":\n",
    "        example_result = part_a(example.input_data, 2)\n",
    "        print(\n",
    "            f\"Example {example_index} part a: {example_result} (expected {example.answer_a})\"\n",
    "        )\n",
    "        assert example_result == example.answer_a\n",
    "submit(part_a(data, 100), part=\"a\", year=puzzle_year, day=puzzle_day)"
   ]
  },
  {
   "cell_type": "markdown",
   "metadata": {},
   "source": [
    "# Part B"
   ]
  },
  {
   "cell_type": "code",
   "execution_count": 9,
   "metadata": {},
   "outputs": [],
   "source": [
    "def compute_number_of_shortcuts_part_b(map: np.ndarray, minimum_gain: int = 100) -> int:\n",
    "    def cheat_size(initial_position: np.ndarray, end_position: np.ndarray) -> bool:\n",
    "        return np.abs(initial_position - end_position).sum()\n",
    "\n",
    "    def is_in_track(position: np.ndarray) -> bool:\n",
    "        return (\n",
    "            0 <= position[0] < map.shape[0]\n",
    "            and 0 <= position[1] < map.shape[1]\n",
    "            and map[tuple(position)] != \"#\"\n",
    "        )\n",
    "\n",
    "    distance_map = compute_distance_map(map)\n",
    "    potential_shortcut_start_positions = np.argwhere(\n",
    "        distance_map >= 0\n",
    "    )  # all positions on the path\n",
    "    result = 0\n",
    "    for position in potential_shortcut_start_positions:\n",
    "        position_distance = distance_map[tuple(position)]\n",
    "        for delta_y in range(-20, 21):\n",
    "            for delta_x in range(-20 + np.abs(delta_y), 21 - np.abs(delta_y)):\n",
    "                shortcut_end_position = position + np.array([delta_y, delta_x])\n",
    "                if is_in_track(shortcut_end_position):\n",
    "                    shortcut_end_distance = distance_map[tuple(shortcut_end_position)]\n",
    "                    gained = (\n",
    "                        shortcut_end_distance\n",
    "                        - position_distance\n",
    "                        - cheat_size(position, shortcut_end_position)\n",
    "                    )\n",
    "                    if gained >= minimum_gain:\n",
    "                        # print(f\"Found shortcut from {position} to {shortcut_end_position} with gain {gained}\")\n",
    "                        result += 1\n",
    "    return result"
   ]
  },
  {
   "cell_type": "code",
   "execution_count": 10,
   "metadata": {},
   "outputs": [],
   "source": [
    "def part_b(data: str, minimum_gain: int) -> str:\n",
    "    map = np.array([[x for x in line] for line in data.split(\"\\n\")])\n",
    "    result = compute_number_of_shortcuts_part_b(map, minimum_gain)\n",
    "    return str(result)"
   ]
  },
  {
   "cell_type": "code",
   "execution_count": 11,
   "metadata": {},
   "outputs": [],
   "source": [
    "todays_examples[0] = todays_examples[0]._replace(answer_b=\"285\")"
   ]
  },
  {
   "cell_type": "code",
   "execution_count": null,
   "metadata": {},
   "outputs": [],
   "source": [
    "for example_index, example in enumerate(todays_examples):\n",
    "    if example.answer_b != \"\":\n",
    "        example_result = part_b(example.input_data, 50)\n",
    "        print(\n",
    "            f\"Example {example_index} part b: {example_result} (expected {example.answer_b})\"\n",
    "        )\n",
    "        assert example_result == example.answer_b\n",
    "submit(part_b(data, 100), part=\"b\", year=puzzle_year, day=puzzle_day)"
   ]
  }
 ],
 "metadata": {
  "kernelspec": {
   "display_name": ".env",
   "language": "python",
   "name": "python3"
  },
  "language_info": {
   "codemirror_mode": {
    "name": "ipython",
    "version": 3
   },
   "file_extension": ".py",
   "mimetype": "text/x-python",
   "name": "python",
   "nbconvert_exporter": "python",
   "pygments_lexer": "ipython3",
   "version": "3.12.6"
  }
 },
 "nbformat": 4,
 "nbformat_minor": 2
}
