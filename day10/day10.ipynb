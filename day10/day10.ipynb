{
 "cells": [
  {
   "cell_type": "code",
   "execution_count": null,
   "metadata": {},
   "outputs": [],
   "source": [
    "from aocd import data, models, submit\n",
    "from io import StringIO\n",
    "from pathlib import Path\n",
    "import re\n",
    "\n",
    "import pandas as pd\n",
    "import numpy as np\n",
    "from itertools import product"
   ]
  },
  {
   "cell_type": "markdown",
   "metadata": {},
   "source": [
    "# Load data and examples"
   ]
  },
  {
   "cell_type": "code",
   "execution_count": null,
   "metadata": {},
   "outputs": [],
   "source": [
    "puzzle_year = 2024\n",
    "puzzle_day = int(re.match(r\"day(\\d+)\", Path.cwd().name).group(1))"
   ]
  },
  {
   "cell_type": "code",
   "execution_count": null,
   "metadata": {},
   "outputs": [],
   "source": [
    "todays_puzzle = models.Puzzle(year=puzzle_year, day=puzzle_day)\n",
    "todays_examples = todays_puzzle.examples"
   ]
  },
  {
   "cell_type": "markdown",
   "metadata": {},
   "source": [
    "# Part A"
   ]
  },
  {
   "cell_type": "code",
   "execution_count": null,
   "metadata": {},
   "outputs": [],
   "source": [
    "todays_examples[0] = todays_examples[0]._replace(\n",
    "    input_data=\"\"\"89010123\n",
    "78121874\n",
    "87430965\n",
    "96549874\n",
    "45678903\n",
    "32019012\n",
    "01329801\n",
    "10456732\n",
    "\"\"\"\n",
    ")"
   ]
  },
  {
   "cell_type": "code",
   "execution_count": null,
   "metadata": {},
   "outputs": [],
   "source": [
    "def get_trailing_score(\n",
    "    map: np.ndarray, current_position: np.ndarray, reached_nine_positions\n",
    "):\n",
    "    n = map.shape[0]\n",
    "    current_value = map[tuple(current_position)]\n",
    "    if current_value == 9:\n",
    "        reached_nine_positions.add(tuple(current_position))\n",
    "        return\n",
    "    for pos_diff in [(-1, 0), (1, 0), (0, -1), (0, 1)]:\n",
    "        next_position = current_position + pos_diff\n",
    "        if (0 <= next_position[0] < n and 0 <= next_position[1] < n) and (\n",
    "            map[tuple(next_position)] - current_value == 1\n",
    "        ):\n",
    "            get_trailing_score(map, next_position, reached_nine_positions)"
   ]
  },
  {
   "cell_type": "code",
   "execution_count": null,
   "metadata": {},
   "outputs": [],
   "source": [
    "def part_a(data: str) -> str:\n",
    "    result = 0\n",
    "    map = np.array([[int(point) for point in line] for line in data.split()])\n",
    "    for zero_positions in np.argwhere(map == 0):\n",
    "        reached_nines = set()\n",
    "        get_trailing_score(map, zero_positions, reached_nines)\n",
    "        result += len(reached_nines)\n",
    "    return str(result)"
   ]
  },
  {
   "cell_type": "code",
   "execution_count": null,
   "metadata": {},
   "outputs": [],
   "source": [
    "for example_index, example in enumerate(todays_examples):\n",
    "    if example.answer_a != \"\":\n",
    "        print(\n",
    "            f\"Example {example_index} part a: {part_a(example.input_data)} (expected {example.answer_a})\"\n",
    "        )\n",
    "        assert part_a(str(example.input_data)) == example.answer_a\n",
    "submit(part_a(data), part=\"a\", year=puzzle_year, day=puzzle_day)"
   ]
  },
  {
   "cell_type": "markdown",
   "metadata": {},
   "source": [
    "# Part B"
   ]
  },
  {
   "cell_type": "code",
   "execution_count": null,
   "metadata": {},
   "outputs": [],
   "source": [
    "def get_trailing_score_b(\n",
    "    map: np.ndarray,\n",
    "    current_position: np.ndarray,\n",
    "):\n",
    "    n = map.shape[0]\n",
    "    current_value = map[tuple(current_position)]\n",
    "    if current_value == 9:\n",
    "        return 1\n",
    "    result = 0\n",
    "    for pos_diff in [(-1, 0), (1, 0), (0, -1), (0, 1)]:\n",
    "        next_position = current_position + pos_diff\n",
    "        if (0 <= next_position[0] < n and 0 <= next_position[1] < n) and (\n",
    "            map[tuple(next_position)] - current_value == 1\n",
    "        ):\n",
    "            result += get_trailing_score_b(map, next_position)\n",
    "    return result"
   ]
  },
  {
   "cell_type": "code",
   "execution_count": null,
   "metadata": {},
   "outputs": [],
   "source": [
    "def part_b(data: str) -> str:\n",
    "    result = 0\n",
    "    map = np.array([[int(point) for point in line] for line in data.split()])\n",
    "    for zero_positions in np.argwhere(map == 0):\n",
    "        result += get_trailing_score_b(map, zero_positions)\n",
    "\n",
    "    return str(result)"
   ]
  },
  {
   "cell_type": "code",
   "execution_count": null,
   "metadata": {},
   "outputs": [],
   "source": [
    "todays_examples[0] = todays_examples[0]._replace(answer_b=\"81\")"
   ]
  },
  {
   "cell_type": "code",
   "execution_count": null,
   "metadata": {},
   "outputs": [],
   "source": [
    "for example_index, example in enumerate(todays_examples):\n",
    "    if example.answer_b != \"\":\n",
    "        print(\n",
    "            f\"Example {example_index} part b: {part_b(example.input_data)} (expected {example.answer_b})\"\n",
    "        )\n",
    "        assert part_b(str(example.input_data)) == example.answer_b\n",
    "submit(part_b(data), part=\"b\", year=puzzle_year, day=puzzle_day)"
   ]
  }
 ],
 "metadata": {
  "kernelspec": {
   "display_name": ".env",
   "language": "python",
   "name": "python3"
  },
  "language_info": {
   "codemirror_mode": {
    "name": "ipython",
    "version": 3
   },
   "file_extension": ".py",
   "mimetype": "text/x-python",
   "name": "python",
   "nbconvert_exporter": "python",
   "pygments_lexer": "ipython3",
   "version": "3.12.6"
  }
 },
 "nbformat": 4,
 "nbformat_minor": 2
}
