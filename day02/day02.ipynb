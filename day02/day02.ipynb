{
 "cells": [
  {
   "cell_type": "code",
   "execution_count": null,
   "metadata": {},
   "outputs": [],
   "source": [
    "from aocd import data, models, submit\n",
    "from io import StringIO\n",
    "from pathlib import Path\n",
    "import re\n",
    "\n",
    "import pandas as pd\n",
    "import numpy as np"
   ]
  },
  {
   "cell_type": "markdown",
   "metadata": {},
   "source": [
    "# Load data and examples"
   ]
  },
  {
   "cell_type": "code",
   "execution_count": null,
   "metadata": {},
   "outputs": [],
   "source": [
    "puzzle_year = 2024\n",
    "puzzle_day = int(re.match(r\"day(\\d+)\", Path.cwd().name).group(1))"
   ]
  },
  {
   "cell_type": "code",
   "execution_count": null,
   "metadata": {},
   "outputs": [],
   "source": [
    "todays_puzzle = models.Puzzle(year=puzzle_year, day=puzzle_day)\n",
    "todays_examples = todays_puzzle.examples"
   ]
  },
  {
   "cell_type": "markdown",
   "metadata": {},
   "source": [
    "# Part A"
   ]
  },
  {
   "cell_type": "code",
   "execution_count": null,
   "metadata": {},
   "outputs": [],
   "source": [
    "def check_monoticity(report: np.ndarray) -> bool:\n",
    "    diff = np.diff(report)\n",
    "    if all(diff > 0) or all(diff < 0):\n",
    "        return True\n",
    "    return False\n",
    "\n",
    "\n",
    "def check_adjascent(report: np.ndarray) -> bool:\n",
    "    diff = np.abs(np.diff(report))\n",
    "    if np.all(diff > 0) and np.all(diff < 4):\n",
    "        return True\n",
    "    return False\n",
    "\n",
    "\n",
    "def part_a(data: str) -> str:\n",
    "    result = \"\"\n",
    "    reports = [\n",
    "        np.array([int(x) for x in line.split(\" \")]) for line in data.split(\"\\n\") if line\n",
    "    ]\n",
    "    result = sum(\n",
    "        [check_monoticity(report) & check_adjascent(report) for report in reports]\n",
    "    )\n",
    "    return str(result)"
   ]
  },
  {
   "cell_type": "code",
   "execution_count": null,
   "metadata": {},
   "outputs": [],
   "source": [
    "for example_index, example in enumerate(todays_examples):\n",
    "    if example.answer_a != \"\":\n",
    "        print(\n",
    "            f\"Example {example_index} part a: {part_a(example.input_data)} (expected {example.answer_a})\"\n",
    "        )\n",
    "        assert part_a(str(example.input_data)) == example.answer_a\n",
    "submit(part_a(data), part=\"a\", year=puzzle_year, day=puzzle_day)"
   ]
  },
  {
   "cell_type": "markdown",
   "metadata": {},
   "source": [
    "# Part B"
   ]
  },
  {
   "cell_type": "code",
   "execution_count": null,
   "metadata": {},
   "outputs": [],
   "source": [
    "def part_b(data: str) -> str:\n",
    "    result = \"\"\n",
    "    reports = [\n",
    "        np.array([int(x) for x in line.split(\" \")]) for line in data.split(\"\\n\") if line\n",
    "    ]\n",
    "    report_results = []\n",
    "    for report in reports:\n",
    "        dumped_analyses = [\n",
    "            np.concat([report[:i], report[i + 1 :]]) for i in range(len(report))\n",
    "        ]\n",
    "        with_dumpener = [\n",
    "            check_monoticity(dumped_report) & check_adjascent(dumped_report)\n",
    "            for dumped_report in dumped_analyses\n",
    "        ]\n",
    "        report_results.append(np.any(with_dumpener))\n",
    "    result = sum(report_results)\n",
    "    return str(result)"
   ]
  },
  {
   "cell_type": "code",
   "execution_count": null,
   "metadata": {},
   "outputs": [],
   "source": [
    "todays_examples[0] = todays_examples[0]._replace(answer_b=\"4\")"
   ]
  },
  {
   "cell_type": "code",
   "execution_count": null,
   "metadata": {},
   "outputs": [],
   "source": [
    "for example_index, example in enumerate(todays_examples):\n",
    "    if example.answer_b != \"\":\n",
    "        print(\n",
    "            f\"Example {example_index} part b: {part_b(example.input_data)} (expected {example.answer_b})\"\n",
    "        )\n",
    "        assert part_b(str(example.input_data)) == example.answer_b\n",
    "submit(part_b(data), part=\"b\", year=puzzle_year, day=puzzle_day)"
   ]
  }
 ],
 "metadata": {
  "kernelspec": {
   "display_name": ".env",
   "language": "python",
   "name": "python3"
  },
  "language_info": {
   "codemirror_mode": {
    "name": "ipython",
    "version": 3
   },
   "file_extension": ".py",
   "mimetype": "text/x-python",
   "name": "python",
   "nbconvert_exporter": "python",
   "pygments_lexer": "ipython3",
   "version": "3.12.6"
  }
 },
 "nbformat": 4,
 "nbformat_minor": 2
}
