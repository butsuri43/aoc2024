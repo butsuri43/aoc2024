{
 "cells": [
  {
   "cell_type": "code",
   "execution_count": null,
   "metadata": {},
   "outputs": [],
   "source": [
    "from aocd import data, models, submit\n",
    "from io import StringIO\n",
    "from pathlib import Path\n",
    "import re\n",
    "\n",
    "import pandas as pd\n",
    "import numpy as np\n",
    "from itertools import product"
   ]
  },
  {
   "cell_type": "markdown",
   "metadata": {},
   "source": [
    "# Load data and examples"
   ]
  },
  {
   "cell_type": "code",
   "execution_count": null,
   "metadata": {},
   "outputs": [],
   "source": [
    "puzzle_year = 2024\n",
    "puzzle_day = int(re.match(r\"day(\\d+)\", Path.cwd().name).group(1))"
   ]
  },
  {
   "cell_type": "code",
   "execution_count": null,
   "metadata": {},
   "outputs": [],
   "source": [
    "todays_puzzle = models.Puzzle(year=puzzle_year, day=puzzle_day)\n",
    "todays_examples = todays_puzzle.examples"
   ]
  },
  {
   "cell_type": "code",
   "execution_count": null,
   "metadata": {},
   "outputs": [],
   "source": [
    "def concatenation(x: int, y: int):\n",
    "    return int(str(x) + str(y))"
   ]
  },
  {
   "cell_type": "code",
   "execution_count": null,
   "metadata": {},
   "outputs": [],
   "source": [
    "def calculated_operations(numbers, operation_encoding):\n",
    "    operation_dict = {0: np.add, 1: np.multiply, 2: concatenation}\n",
    "    result = numbers[0]\n",
    "    for next_number, operation_index in zip(numbers[1:], operation_encoding):\n",
    "        result = operation_dict[operation_index](result, next_number)\n",
    "    return result"
   ]
  },
  {
   "cell_type": "markdown",
   "metadata": {},
   "source": [
    "# Part A"
   ]
  },
  {
   "cell_type": "code",
   "execution_count": null,
   "metadata": {},
   "outputs": [],
   "source": [
    "def part_a(data: str) -> str:\n",
    "    result = 0\n",
    "    test_data = data.split(\"\\n\")\n",
    "    for single_test_data in test_data:\n",
    "        test_result, numbers = single_test_data.split(\":\")\n",
    "        test_result = int(test_result)\n",
    "        numbers = [int(x) for x in numbers.strip().split(\" \")]\n",
    "        for operation_combination in product([0, 1], repeat=len(numbers) - 1):\n",
    "            if test_result == calculated_operations(numbers, operation_combination):\n",
    "                result += test_result\n",
    "                break\n",
    "    return str(result)"
   ]
  },
  {
   "cell_type": "code",
   "execution_count": null,
   "metadata": {},
   "outputs": [],
   "source": [
    "for example_index, example in enumerate(todays_examples):\n",
    "    if example.answer_a != \"\":\n",
    "        print(\n",
    "            f\"Example {example_index} part a: {part_a(example.input_data)} (expected {example.answer_a})\"\n",
    "        )\n",
    "        assert part_a(str(example.input_data)) == example.answer_a\n",
    "submit(part_a(data), part=\"a\", year=puzzle_year, day=puzzle_day)"
   ]
  },
  {
   "cell_type": "markdown",
   "metadata": {},
   "source": [
    "# Part B"
   ]
  },
  {
   "cell_type": "code",
   "execution_count": null,
   "metadata": {},
   "outputs": [],
   "source": [
    "def part_b(data: str) -> str:\n",
    "    result = 0\n",
    "    test_data = data.split(\"\\n\")\n",
    "    for single_test_data in test_data:\n",
    "        test_result, numbers = single_test_data.split(\":\")\n",
    "        test_result = int(test_result)\n",
    "        numbers = [int(x) for x in numbers.strip().split(\" \")]\n",
    "        for operation_combination in product([0, 1, 2], repeat=len(numbers) - 1):\n",
    "            if test_result == calculated_operations(numbers, operation_combination):\n",
    "                result += test_result\n",
    "                break\n",
    "    return str(result)"
   ]
  },
  {
   "cell_type": "code",
   "execution_count": null,
   "metadata": {},
   "outputs": [],
   "source": [
    "todays_examples[0] = todays_examples[0]._replace(answer_b=\"11387\")"
   ]
  },
  {
   "cell_type": "code",
   "execution_count": null,
   "metadata": {},
   "outputs": [],
   "source": [
    "for example_index, example in enumerate(todays_examples):\n",
    "    if example.answer_b != \"\":\n",
    "        print(\n",
    "            f\"Example {example_index} part b: {part_b(example.input_data)} (expected {example.answer_b})\"\n",
    "        )\n",
    "        assert part_b(str(example.input_data)) == example.answer_b\n",
    "submit(part_b(data), part=\"b\", year=puzzle_year, day=puzzle_day)"
   ]
  }
 ],
 "metadata": {
  "kernelspec": {
   "display_name": ".env",
   "language": "python",
   "name": "python3"
  },
  "language_info": {
   "codemirror_mode": {
    "name": "ipython",
    "version": 3
   },
   "file_extension": ".py",
   "mimetype": "text/x-python",
   "name": "python",
   "nbconvert_exporter": "python",
   "pygments_lexer": "ipython3",
   "version": "3.12.6"
  }
 },
 "nbformat": 4,
 "nbformat_minor": 2
}
